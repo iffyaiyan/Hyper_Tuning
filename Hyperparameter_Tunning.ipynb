{
  "nbformat": 4,
  "nbformat_minor": 0,
  "metadata": {
    "colab": {
      "name": "Hyperparameter_Tunning.ipynb",
      "provenance": [],
      "collapsed_sections": [],
      "authorship_tag": "ABX9TyMMW7Sl69iRzyiurJ8Oc/IZ",
      "include_colab_link": true
    },
    "kernelspec": {
      "name": "python3",
      "display_name": "Python 3"
    }
  },
  "cells": [
    {
      "cell_type": "markdown",
      "metadata": {
        "id": "view-in-github",
        "colab_type": "text"
      },
      "source": [
        "<a href=\"https://colab.research.google.com/github/iffyaiyan/Hyper_Tuning/blob/main/Hyperparameter_Tunning.ipynb\" target=\"_parent\"><img src=\"https://colab.research.google.com/assets/colab-badge.svg\" alt=\"Open In Colab\"/></a>"
      ]
    },
    {
      "cell_type": "code",
      "metadata": {
        "id": "SNdE7RCwFwq6"
      },
      "source": [
        "!pip install -U -q PyDrive\n",
        "from pydrive.auth import GoogleAuth\n",
        "from pydrive.drive import GoogleDrive\n",
        "from google.colab import auth\n",
        "from oauth2client.client import GoogleCredentials"
      ],
      "execution_count": null,
      "outputs": []
    },
    {
      "cell_type": "code",
      "metadata": {
        "id": "y38Hw8NTIYVK"
      },
      "source": [
        "auth.authenticate_user()\n",
        "gauth = GoogleAuth()\n",
        "gauth.credentials = GoogleCredentials.get_application_default()\n",
        "drive = GoogleDrive(gauth)"
      ],
      "execution_count": null,
      "outputs": []
    },
    {
      "cell_type": "code",
      "metadata": {
        "id": "OFR6XlH6Ibou"
      },
      "source": [
        "link = 'https://drive.google.com/file/d/1i08bfAKHGkGocKfC-5UROCXwH4DlcJ7C/view?usp=sharing'\n",
        "# to get the id part of the file \n",
        "id = link.split(\"/\")[-2] \n",
        "  \n",
        "downloaded = drive.CreateFile({'id':id})  \n",
        "downloaded.GetContentFile('diabetes.csv') "
      ],
      "execution_count": null,
      "outputs": []
    },
    {
      "cell_type": "code",
      "metadata": {
        "id": "auFaoPsSOW3A"
      },
      "source": [
        "import warnings\n",
        "warnings.filterwarnings('ignore')"
      ],
      "execution_count": null,
      "outputs": []
    },
    {
      "cell_type": "code",
      "metadata": {
        "colab": {
          "base_uri": "https://localhost:8080/",
          "height": 215
        },
        "id": "-8jrLHcSJbXv",
        "outputId": "d45c8848-0067-49ac-fd0e-7822ddfad39c"
      },
      "source": [
        "\n",
        "import pandas as pd\n",
        "\n",
        "df = pd.read_csv('diabetes.csv')\n",
        "\n",
        "df.head()"
      ],
      "execution_count": null,
      "outputs": [
        {
          "output_type": "execute_result",
          "data": {
            "text/html": [
              "<div>\n",
              "<style scoped>\n",
              "    .dataframe tbody tr th:only-of-type {\n",
              "        vertical-align: middle;\n",
              "    }\n",
              "\n",
              "    .dataframe tbody tr th {\n",
              "        vertical-align: top;\n",
              "    }\n",
              "\n",
              "    .dataframe thead th {\n",
              "        text-align: right;\n",
              "    }\n",
              "</style>\n",
              "<table border=\"1\" class=\"dataframe\">\n",
              "  <thead>\n",
              "    <tr style=\"text-align: right;\">\n",
              "      <th></th>\n",
              "      <th>Pregnancies</th>\n",
              "      <th>Glucose</th>\n",
              "      <th>BloodPressure</th>\n",
              "      <th>SkinThickness</th>\n",
              "      <th>Insulin</th>\n",
              "      <th>BMI</th>\n",
              "      <th>DiabetesPedigreeFunction</th>\n",
              "      <th>Age</th>\n",
              "      <th>Outcome</th>\n",
              "    </tr>\n",
              "  </thead>\n",
              "  <tbody>\n",
              "    <tr>\n",
              "      <th>0</th>\n",
              "      <td>6</td>\n",
              "      <td>148</td>\n",
              "      <td>72</td>\n",
              "      <td>35</td>\n",
              "      <td>0</td>\n",
              "      <td>33.6</td>\n",
              "      <td>0.627</td>\n",
              "      <td>50</td>\n",
              "      <td>1</td>\n",
              "    </tr>\n",
              "    <tr>\n",
              "      <th>1</th>\n",
              "      <td>1</td>\n",
              "      <td>85</td>\n",
              "      <td>66</td>\n",
              "      <td>29</td>\n",
              "      <td>0</td>\n",
              "      <td>26.6</td>\n",
              "      <td>0.351</td>\n",
              "      <td>31</td>\n",
              "      <td>0</td>\n",
              "    </tr>\n",
              "    <tr>\n",
              "      <th>2</th>\n",
              "      <td>8</td>\n",
              "      <td>183</td>\n",
              "      <td>64</td>\n",
              "      <td>0</td>\n",
              "      <td>0</td>\n",
              "      <td>23.3</td>\n",
              "      <td>0.672</td>\n",
              "      <td>32</td>\n",
              "      <td>1</td>\n",
              "    </tr>\n",
              "    <tr>\n",
              "      <th>3</th>\n",
              "      <td>1</td>\n",
              "      <td>89</td>\n",
              "      <td>66</td>\n",
              "      <td>23</td>\n",
              "      <td>94</td>\n",
              "      <td>28.1</td>\n",
              "      <td>0.167</td>\n",
              "      <td>21</td>\n",
              "      <td>0</td>\n",
              "    </tr>\n",
              "    <tr>\n",
              "      <th>4</th>\n",
              "      <td>0</td>\n",
              "      <td>137</td>\n",
              "      <td>40</td>\n",
              "      <td>35</td>\n",
              "      <td>168</td>\n",
              "      <td>43.1</td>\n",
              "      <td>2.288</td>\n",
              "      <td>33</td>\n",
              "      <td>1</td>\n",
              "    </tr>\n",
              "  </tbody>\n",
              "</table>\n",
              "</div>"
            ],
            "text/plain": [
              "   Pregnancies  Glucose  BloodPressure  ...  DiabetesPedigreeFunction  Age  Outcome\n",
              "0            6      148             72  ...                     0.627   50        1\n",
              "1            1       85             66  ...                     0.351   31        0\n",
              "2            8      183             64  ...                     0.672   32        1\n",
              "3            1       89             66  ...                     0.167   21        0\n",
              "4            0      137             40  ...                     2.288   33        1\n",
              "\n",
              "[5 rows x 9 columns]"
            ]
          },
          "metadata": {
            "tags": []
          },
          "execution_count": 35
        }
      ]
    },
    {
      "cell_type": "code",
      "metadata": {
        "colab": {
          "base_uri": "https://localhost:8080/",
          "height": 215
        },
        "id": "vE0gBTzjM2br",
        "outputId": "5c027470-cb28-494a-9e51-dcc036094f78"
      },
      "source": [
        "import numpy as np\n",
        "df['Glucose'] = np.where(df['Glucose']==0, df['Glucose'].median(), df['Glucose'])\n",
        "df['Insulin'] = np.where(df['Insulin'] == 0, df['Insulin'].median(), df['Insulin'])\n",
        "df['SkinThickness'] = np.where(df['SkinThickness'] == 0, df['SkinThickness'].median(), df['SkinThickness'])\n",
        "df.head()"
      ],
      "execution_count": null,
      "outputs": [
        {
          "output_type": "execute_result",
          "data": {
            "text/html": [
              "<div>\n",
              "<style scoped>\n",
              "    .dataframe tbody tr th:only-of-type {\n",
              "        vertical-align: middle;\n",
              "    }\n",
              "\n",
              "    .dataframe tbody tr th {\n",
              "        vertical-align: top;\n",
              "    }\n",
              "\n",
              "    .dataframe thead th {\n",
              "        text-align: right;\n",
              "    }\n",
              "</style>\n",
              "<table border=\"1\" class=\"dataframe\">\n",
              "  <thead>\n",
              "    <tr style=\"text-align: right;\">\n",
              "      <th></th>\n",
              "      <th>Pregnancies</th>\n",
              "      <th>Glucose</th>\n",
              "      <th>BloodPressure</th>\n",
              "      <th>SkinThickness</th>\n",
              "      <th>Insulin</th>\n",
              "      <th>BMI</th>\n",
              "      <th>DiabetesPedigreeFunction</th>\n",
              "      <th>Age</th>\n",
              "      <th>Outcome</th>\n",
              "    </tr>\n",
              "  </thead>\n",
              "  <tbody>\n",
              "    <tr>\n",
              "      <th>0</th>\n",
              "      <td>6</td>\n",
              "      <td>148.0</td>\n",
              "      <td>72</td>\n",
              "      <td>35.0</td>\n",
              "      <td>30.5</td>\n",
              "      <td>33.6</td>\n",
              "      <td>0.627</td>\n",
              "      <td>50</td>\n",
              "      <td>1</td>\n",
              "    </tr>\n",
              "    <tr>\n",
              "      <th>1</th>\n",
              "      <td>1</td>\n",
              "      <td>85.0</td>\n",
              "      <td>66</td>\n",
              "      <td>29.0</td>\n",
              "      <td>30.5</td>\n",
              "      <td>26.6</td>\n",
              "      <td>0.351</td>\n",
              "      <td>31</td>\n",
              "      <td>0</td>\n",
              "    </tr>\n",
              "    <tr>\n",
              "      <th>2</th>\n",
              "      <td>8</td>\n",
              "      <td>183.0</td>\n",
              "      <td>64</td>\n",
              "      <td>23.0</td>\n",
              "      <td>30.5</td>\n",
              "      <td>23.3</td>\n",
              "      <td>0.672</td>\n",
              "      <td>32</td>\n",
              "      <td>1</td>\n",
              "    </tr>\n",
              "    <tr>\n",
              "      <th>3</th>\n",
              "      <td>1</td>\n",
              "      <td>89.0</td>\n",
              "      <td>66</td>\n",
              "      <td>23.0</td>\n",
              "      <td>94.0</td>\n",
              "      <td>28.1</td>\n",
              "      <td>0.167</td>\n",
              "      <td>21</td>\n",
              "      <td>0</td>\n",
              "    </tr>\n",
              "    <tr>\n",
              "      <th>4</th>\n",
              "      <td>0</td>\n",
              "      <td>137.0</td>\n",
              "      <td>40</td>\n",
              "      <td>35.0</td>\n",
              "      <td>168.0</td>\n",
              "      <td>43.1</td>\n",
              "      <td>2.288</td>\n",
              "      <td>33</td>\n",
              "      <td>1</td>\n",
              "    </tr>\n",
              "  </tbody>\n",
              "</table>\n",
              "</div>"
            ],
            "text/plain": [
              "   Pregnancies  Glucose  BloodPressure  ...  DiabetesPedigreeFunction  Age  Outcome\n",
              "0            6    148.0             72  ...                     0.627   50        1\n",
              "1            1     85.0             66  ...                     0.351   31        0\n",
              "2            8    183.0             64  ...                     0.672   32        1\n",
              "3            1     89.0             66  ...                     0.167   21        0\n",
              "4            0    137.0             40  ...                     2.288   33        1\n",
              "\n",
              "[5 rows x 9 columns]"
            ]
          },
          "metadata": {
            "tags": []
          },
          "execution_count": 36
        }
      ]
    },
    {
      "cell_type": "code",
      "metadata": {
        "id": "a0IY12UaNNOT"
      },
      "source": [
        "X = df.drop('Outcome', axis = 1)\n",
        "y = df['Outcome']"
      ],
      "execution_count": null,
      "outputs": []
    },
    {
      "cell_type": "code",
      "metadata": {
        "id": "iVvQhKUwQJaD"
      },
      "source": [
        "# Train-Test Split\n",
        "from sklearn.model_selection import train_test_split\n",
        "X_train, X_test,y_train,y_test = train_test_split(X,y, test_size=0.20, random_state=3)"
      ],
      "execution_count": null,
      "outputs": []
    },
    {
      "cell_type": "code",
      "metadata": {
        "id": "sor5HScySS-M"
      },
      "source": [
        "from sklearn.ensemble import RandomForestClassifier\n",
        "rf_classifier = RandomForestClassifier(n_estimators=10).fit(X_train, y_train)\n",
        "prediction = rf_classifier.predict(X_test)"
      ],
      "execution_count": null,
      "outputs": []
    },
    {
      "cell_type": "code",
      "metadata": {
        "colab": {
          "base_uri": "https://localhost:8080/"
        },
        "id": "WVnO4m1XS4rY",
        "outputId": "c8a9207c-553b-4ca1-cf55-6251c18e0d02"
      },
      "source": [
        "y.value_counts()"
      ],
      "execution_count": null,
      "outputs": [
        {
          "output_type": "execute_result",
          "data": {
            "text/plain": [
              "0    500\n",
              "1    268\n",
              "Name: Outcome, dtype: int64"
            ]
          },
          "metadata": {
            "tags": []
          },
          "execution_count": 40
        }
      ]
    },
    {
      "cell_type": "code",
      "metadata": {
        "colab": {
          "base_uri": "https://localhost:8080/"
        },
        "id": "WlnYn90US8Xu",
        "outputId": "53f269a7-2e89-47c7-f39d-dd15bbf9404f"
      },
      "source": [
        "from sklearn.metrics import confusion_matrix, classification_report, accuracy_score\n",
        "print(confusion_matrix(y_test, prediction))\n",
        "print(accuracy_score(y_test, prediction))\n",
        "print(classification_report(y_test, prediction))"
      ],
      "execution_count": null,
      "outputs": [
        {
          "output_type": "stream",
          "text": [
            "[[83  9]\n",
            " [36 26]]\n",
            "0.7077922077922078\n",
            "              precision    recall  f1-score   support\n",
            "\n",
            "           0       0.70      0.90      0.79        92\n",
            "           1       0.74      0.42      0.54        62\n",
            "\n",
            "    accuracy                           0.71       154\n",
            "   macro avg       0.72      0.66      0.66       154\n",
            "weighted avg       0.72      0.71      0.69       154\n",
            "\n"
          ],
          "name": "stdout"
        }
      ]
    },
    {
      "cell_type": "code",
      "metadata": {
        "colab": {
          "base_uri": "https://localhost:8080/"
        },
        "id": "n-WvOJ6pU1ZF",
        "outputId": "8c40ccaa-839a-4a05-ee80-d717430ad3b2"
      },
      "source": [
        "model = RandomForestClassifier(n_estimators = 500, criterion='gini', \n",
        "                               max_features = 'sqrt', min_samples_leaf=10, random_state = 100).fit(X_train, y_train)\n",
        "\n",
        "predictions = model.predict(X_test)\n",
        "print(confusion_matrix(y_test, predictions))\n",
        "print(accuracy_score(y_test, predictions))\n",
        "print(classification_report(y_test, predictions))                     "
      ],
      "execution_count": null,
      "outputs": [
        {
          "output_type": "stream",
          "text": [
            "[[81 11]\n",
            " [29 33]]\n",
            "0.7402597402597403\n",
            "              precision    recall  f1-score   support\n",
            "\n",
            "           0       0.74      0.88      0.80        92\n",
            "           1       0.75      0.53      0.62        62\n",
            "\n",
            "    accuracy                           0.74       154\n",
            "   macro avg       0.74      0.71      0.71       154\n",
            "weighted avg       0.74      0.74      0.73       154\n",
            "\n"
          ],
          "name": "stdout"
        }
      ]
    },
    {
      "cell_type": "markdown",
      "metadata": {
        "id": "Nr0GQSrQZP-j"
      },
      "source": [
        "Randomized Search"
      ]
    },
    {
      "cell_type": "code",
      "metadata": {
        "colab": {
          "base_uri": "https://localhost:8080/"
        },
        "id": "vkGYzzA7WUVS",
        "outputId": "3ca44e65-4c4c-46e9-bc7b-60df960a2a88"
      },
      "source": [
        "from sklearn.model_selection import RandomizedSearchCV\n",
        "n_estimators = [int(x) for x in np.linspace(start=200, stop=2000, num=10)]\n",
        "\n",
        "max_features = ['auto', 'sqrt', 'log2']\n",
        "\n",
        "max_depth = [int(x) for x in np.linspace(10, 1000, 10)]\n",
        "\n",
        "min_samples_split = [1,3,4,5,7,9]\n",
        "\n",
        "min_samples_leaf = [1,2,4,6,8]\n",
        "\n",
        "random_grid = {'n_estimators': n_estimators,\n",
        "               'max_features': max_features,\n",
        "               'max_depth': max_depth,\n",
        "               'min_samples_split': min_samples_split,\n",
        "               'min_samples_leaf': min_samples_leaf,\n",
        "               'criterion': ['entropy', 'gini']\n",
        "               }\n",
        "\n",
        "print(random_grid)       "
      ],
      "execution_count": null,
      "outputs": [
        {
          "output_type": "stream",
          "text": [
            "{'n_estimators': [200, 400, 600, 800, 1000, 1200, 1400, 1600, 1800, 2000], 'max_features': ['auto', 'sqrt', 'log2'], 'max_depth': [10, 120, 230, 340, 450, 560, 670, 780, 890, 1000], 'min_samples_split': [1, 3, 4, 5, 7, 9], 'min_samples_leaf': [1, 2, 4, 6, 8], 'criterion': ['entropy', 'gini']}\n"
          ],
          "name": "stdout"
        }
      ]
    },
    {
      "cell_type": "code",
      "metadata": {
        "id": "etYt7j_fbb58",
        "colab": {
          "base_uri": "https://localhost:8080/"
        },
        "outputId": "2947bd56-a30d-4e05-f78e-d0534be5e36e"
      },
      "source": [
        "from sklearn.model_selection import RandomizedSearchCV\n",
        "\n",
        "rf = RandomForestClassifier()\n",
        "rf_randomcv = RandomizedSearchCV(estimator=rf, param_distributions=random_grid, n_iter = 100, cv=3,\n",
        "                             verbose = 2, random_state = 100, n_jobs = -1)\n",
        "\n",
        "rf_randomcv.fit(X_train, y_train)"
      ],
      "execution_count": null,
      "outputs": [
        {
          "output_type": "stream",
          "text": [
            "Fitting 3 folds for each of 100 candidates, totalling 300 fits\n"
          ],
          "name": "stdout"
        },
        {
          "output_type": "stream",
          "text": [
            "[Parallel(n_jobs=-1)]: Using backend LokyBackend with 2 concurrent workers.\n",
            "[Parallel(n_jobs=-1)]: Done  41 tasks      | elapsed:   57.7s\n",
            "[Parallel(n_jobs=-1)]: Done 162 tasks      | elapsed:  3.4min\n",
            "[Parallel(n_jobs=-1)]: Done 300 out of 300 | elapsed:  7.1min finished\n"
          ],
          "name": "stderr"
        },
        {
          "output_type": "execute_result",
          "data": {
            "text/plain": [
              "RandomizedSearchCV(cv=3, error_score=nan,\n",
              "                   estimator=RandomForestClassifier(bootstrap=True,\n",
              "                                                    ccp_alpha=0.0,\n",
              "                                                    class_weight=None,\n",
              "                                                    criterion='gini',\n",
              "                                                    max_depth=None,\n",
              "                                                    max_features='auto',\n",
              "                                                    max_leaf_nodes=None,\n",
              "                                                    max_samples=None,\n",
              "                                                    min_impurity_decrease=0.0,\n",
              "                                                    min_impurity_split=None,\n",
              "                                                    min_samples_leaf=1,\n",
              "                                                    min_samples_split=2,\n",
              "                                                    min_weight_fraction_leaf=0.0,\n",
              "                                                    n_estimators=100,\n",
              "                                                    n_jobs...\n",
              "                   param_distributions={'criterion': ['entropy', 'gini'],\n",
              "                                        'max_depth': [10, 120, 230, 340, 450,\n",
              "                                                      560, 670, 780, 890,\n",
              "                                                      1000],\n",
              "                                        'max_features': ['auto', 'sqrt',\n",
              "                                                         'log2'],\n",
              "                                        'min_samples_leaf': [1, 2, 4, 6, 8],\n",
              "                                        'min_samples_split': [1, 3, 4, 5, 7, 9],\n",
              "                                        'n_estimators': [200, 400, 600, 800,\n",
              "                                                         1000, 1200, 1400, 1600,\n",
              "                                                         1800, 2000]},\n",
              "                   pre_dispatch='2*n_jobs', random_state=100, refit=True,\n",
              "                   return_train_score=False, scoring=None, verbose=2)"
            ]
          },
          "metadata": {
            "tags": []
          },
          "execution_count": 44
        }
      ]
    },
    {
      "cell_type": "code",
      "metadata": {
        "colab": {
          "base_uri": "https://localhost:8080/"
        },
        "id": "OlElVkQkGMF7",
        "outputId": "cb4ef7b6-655f-4768-bcb8-0585789f1daa"
      },
      "source": [
        "rf_randomcv.best_params_"
      ],
      "execution_count": null,
      "outputs": [
        {
          "output_type": "execute_result",
          "data": {
            "text/plain": [
              "{'criterion': 'entropy',\n",
              " 'max_depth': 670,\n",
              " 'max_features': 'log2',\n",
              " 'min_samples_leaf': 6,\n",
              " 'min_samples_split': 9,\n",
              " 'n_estimators': 200}"
            ]
          },
          "metadata": {
            "tags": []
          },
          "execution_count": 45
        }
      ]
    },
    {
      "cell_type": "code",
      "metadata": {
        "colab": {
          "base_uri": "https://localhost:8080/"
        },
        "id": "1iTrXBf-H2In",
        "outputId": "d70d3c9d-12f1-415d-98f9-122ef8da3dff"
      },
      "source": [
        "rf_randomcv.best_estimator_"
      ],
      "execution_count": null,
      "outputs": [
        {
          "output_type": "execute_result",
          "data": {
            "text/plain": [
              "RandomForestClassifier(bootstrap=True, ccp_alpha=0.0, class_weight=None,\n",
              "                       criterion='entropy', max_depth=670, max_features='log2',\n",
              "                       max_leaf_nodes=None, max_samples=None,\n",
              "                       min_impurity_decrease=0.0, min_impurity_split=None,\n",
              "                       min_samples_leaf=6, min_samples_split=9,\n",
              "                       min_weight_fraction_leaf=0.0, n_estimators=200,\n",
              "                       n_jobs=None, oob_score=False, random_state=None,\n",
              "                       verbose=0, warm_start=False)"
            ]
          },
          "metadata": {
            "tags": []
          },
          "execution_count": 46
        }
      ]
    },
    {
      "cell_type": "code",
      "metadata": {
        "colab": {
          "base_uri": "https://localhost:8080/"
        },
        "id": "xK9TMkNjHuuI",
        "outputId": "d3b73399-d9b7-4354-b7f7-de511d420e97"
      },
      "source": [
        "rf_randomcv"
      ],
      "execution_count": null,
      "outputs": [
        {
          "output_type": "execute_result",
          "data": {
            "text/plain": [
              "RandomizedSearchCV(cv=3, error_score=nan,\n",
              "                   estimator=RandomForestClassifier(bootstrap=True,\n",
              "                                                    ccp_alpha=0.0,\n",
              "                                                    class_weight=None,\n",
              "                                                    criterion='gini',\n",
              "                                                    max_depth=None,\n",
              "                                                    max_features='auto',\n",
              "                                                    max_leaf_nodes=None,\n",
              "                                                    max_samples=None,\n",
              "                                                    min_impurity_decrease=0.0,\n",
              "                                                    min_impurity_split=None,\n",
              "                                                    min_samples_leaf=1,\n",
              "                                                    min_samples_split=2,\n",
              "                                                    min_weight_fraction_leaf=0.0,\n",
              "                                                    n_estimators=100,\n",
              "                                                    n_jobs...\n",
              "                   param_distributions={'criterion': ['entropy', 'gini'],\n",
              "                                        'max_depth': [10, 120, 230, 340, 450,\n",
              "                                                      560, 670, 780, 890,\n",
              "                                                      1000],\n",
              "                                        'max_features': ['auto', 'sqrt',\n",
              "                                                         'log2'],\n",
              "                                        'min_samples_leaf': [1, 2, 4, 6, 8],\n",
              "                                        'min_samples_split': [1, 3, 4, 5, 7, 9],\n",
              "                                        'n_estimators': [200, 400, 600, 800,\n",
              "                                                         1000, 1200, 1400, 1600,\n",
              "                                                         1800, 2000]},\n",
              "                   pre_dispatch='2*n_jobs', random_state=100, refit=True,\n",
              "                   return_train_score=False, scoring=None, verbose=2)"
            ]
          },
          "metadata": {
            "tags": []
          },
          "execution_count": 47
        }
      ]
    },
    {
      "cell_type": "code",
      "metadata": {
        "id": "lckbUr__IDaN"
      },
      "source": [
        "best_random_grid = rf_randomcv.best_estimator_"
      ],
      "execution_count": null,
      "outputs": []
    },
    {
      "cell_type": "code",
      "metadata": {
        "colab": {
          "base_uri": "https://localhost:8080/"
        },
        "id": "Xlo_i27FIQMj",
        "outputId": "1dc5958b-b3ed-4b77-e7c2-864d6c0f160e"
      },
      "source": [
        "from sklearn.metrics import accuracy_score\n",
        "\n",
        "y_pred = best_random_grid.predict(X_test)\n",
        "\n",
        "print(confusion_matrix(y_test, y_pred))\n",
        "\n",
        "print(\"Accuracy Score {}\".format(accuracy_score(y_test, y_pred)))\n",
        "print(\"Classification report: {}\".format(classification_report(y_test, y_pred)))"
      ],
      "execution_count": null,
      "outputs": [
        {
          "output_type": "stream",
          "text": [
            "[[78 14]\n",
            " [24 38]]\n",
            "Accuracy Score 0.7532467532467533\n",
            "Classification report:               precision    recall  f1-score   support\n",
            "\n",
            "           0       0.76      0.85      0.80        92\n",
            "           1       0.73      0.61      0.67        62\n",
            "\n",
            "    accuracy                           0.75       154\n",
            "   macro avg       0.75      0.73      0.74       154\n",
            "weighted avg       0.75      0.75      0.75       154\n",
            "\n"
          ],
          "name": "stdout"
        }
      ]
    },
    {
      "cell_type": "markdown",
      "metadata": {
        "id": "m1DRVi0BJWgh"
      },
      "source": [
        "# Grid Search CV"
      ]
    },
    {
      "cell_type": "code",
      "metadata": {
        "colab": {
          "base_uri": "https://localhost:8080/"
        },
        "id": "huVCx3j4JDZu",
        "outputId": "db2d5550-c76c-4b2f-945e-c2d129fa66db"
      },
      "source": [
        "rf_randomcv.best_params_"
      ],
      "execution_count": null,
      "outputs": [
        {
          "output_type": "execute_result",
          "data": {
            "text/plain": [
              "{'criterion': 'entropy',\n",
              " 'max_depth': 670,\n",
              " 'max_features': 'log2',\n",
              " 'min_samples_leaf': 6,\n",
              " 'min_samples_split': 9,\n",
              " 'n_estimators': 200}"
            ]
          },
          "metadata": {
            "tags": []
          },
          "execution_count": 50
        }
      ]
    },
    {
      "cell_type": "code",
      "metadata": {
        "colab": {
          "base_uri": "https://localhost:8080/"
        },
        "id": "TGTRnxrzJw_3",
        "outputId": "605825f1-1dde-4152-b22f-c54da9278ffe"
      },
      "source": [
        "from sklearn.model_selection import GridSearchCV\n",
        "\n",
        "param_grid = {\n",
        "    'criterion': [rf_randomcv.best_params_['criterion']],\n",
        "    'max_depth': [rf_randomcv.best_params_['max_depth']],\n",
        "    'max_features': [rf_randomcv.best_params_['max_features']],\n",
        "    'min_samples_leaf': [rf_randomcv.best_params_['min_samples_leaf'],\n",
        "                      rf_randomcv.best_params_['min_samples_leaf']+2,\n",
        "                      rf_randomcv.best_params_['min_samples_leaf']+4],\n",
        "    'min_samples_split': [rf_randomcv.best_params_['min_samples_split']-2,\n",
        "                         rf_randomcv.best_params_['min_samples_split']-1,\n",
        "                         rf_randomcv.best_params_['min_samples_split'],\n",
        "                         rf_randomcv.best_params_['min_samples_split']+1,\n",
        "                         rf_randomcv.best_params_['min_samples_split']+2],\n",
        "    'n_estimators': [rf_randomcv.best_params_['n_estimators']-200,\n",
        "                    rf_randomcv.best_params_['n_estimators']-100,\n",
        "                    rf_randomcv.best_params_['n_estimators'],\n",
        "                    rf_randomcv.best_params_['n_estimators']+100,\n",
        "                    rf_randomcv.best_params_['n_estimators']+200],\n",
        "                         \n",
        "}\n",
        "\n",
        "print(param_grid)\n"
      ],
      "execution_count": null,
      "outputs": [
        {
          "output_type": "stream",
          "text": [
            "{'criterion': ['entropy'], 'max_depth': [670], 'max_features': ['log2'], 'min_samples_leaf': [6, 8, 10], 'min_samples_split': [7, 8, 9, 10, 11], 'n_estimators': [0, 100, 200, 300, 400]}\n"
          ],
          "name": "stdout"
        }
      ]
    },
    {
      "cell_type": "code",
      "metadata": {
        "colab": {
          "base_uri": "https://localhost:8080/"
        },
        "id": "PHJQiB7KNXGx",
        "outputId": "c6c2befc-b88f-4c59-94bc-5a8551d81fc3"
      },
      "source": [
        "# Fitting the Grid_Search_CV to the data\n",
        "\n",
        "rf = RandomForestClassifier()\n",
        "\n",
        "grid_search = GridSearchCV(estimator = rf, param_grid=param_grid, cv = 10, n_jobs=-1, verbose=2)\n",
        "\n",
        "grid_search.fit(X_train, y_train)"
      ],
      "execution_count": null,
      "outputs": [
        {
          "output_type": "stream",
          "text": [
            "Fitting 10 folds for each of 75 candidates, totalling 750 fits\n"
          ],
          "name": "stdout"
        },
        {
          "output_type": "stream",
          "text": [
            "[Parallel(n_jobs=-1)]: Using backend LokyBackend with 2 concurrent workers.\n",
            "[Parallel(n_jobs=-1)]: Done  59 tasks      | elapsed:   16.4s\n",
            "[Parallel(n_jobs=-1)]: Done 180 tasks      | elapsed:   54.9s\n",
            "[Parallel(n_jobs=-1)]: Done 383 tasks      | elapsed:  2.0min\n",
            "[Parallel(n_jobs=-1)]: Done 666 tasks      | elapsed:  3.5min\n",
            "[Parallel(n_jobs=-1)]: Done 750 out of 750 | elapsed:  4.0min finished\n"
          ],
          "name": "stderr"
        },
        {
          "output_type": "execute_result",
          "data": {
            "text/plain": [
              "GridSearchCV(cv=10, error_score=nan,\n",
              "             estimator=RandomForestClassifier(bootstrap=True, ccp_alpha=0.0,\n",
              "                                              class_weight=None,\n",
              "                                              criterion='gini', max_depth=None,\n",
              "                                              max_features='auto',\n",
              "                                              max_leaf_nodes=None,\n",
              "                                              max_samples=None,\n",
              "                                              min_impurity_decrease=0.0,\n",
              "                                              min_impurity_split=None,\n",
              "                                              min_samples_leaf=1,\n",
              "                                              min_samples_split=2,\n",
              "                                              min_weight_fraction_leaf=0.0,\n",
              "                                              n_estimators=100, n_jobs=None,\n",
              "                                              oob_score=False,\n",
              "                                              random_state=None, verbose=0,\n",
              "                                              warm_start=False),\n",
              "             iid='deprecated', n_jobs=-1,\n",
              "             param_grid={'criterion': ['entropy'], 'max_depth': [670],\n",
              "                         'max_features': ['log2'],\n",
              "                         'min_samples_leaf': [6, 8, 10],\n",
              "                         'min_samples_split': [7, 8, 9, 10, 11],\n",
              "                         'n_estimators': [0, 100, 200, 300, 400]},\n",
              "             pre_dispatch='2*n_jobs', refit=True, return_train_score=False,\n",
              "             scoring=None, verbose=2)"
            ]
          },
          "metadata": {
            "tags": []
          },
          "execution_count": 52
        }
      ]
    },
    {
      "cell_type": "code",
      "metadata": {
        "colab": {
          "base_uri": "https://localhost:8080/"
        },
        "id": "WT_MxdmCP4XT",
        "outputId": "53d11c23-4387-42b3-adf2-f2fdd04d23b0"
      },
      "source": [
        "grid_search.best_estimator_"
      ],
      "execution_count": null,
      "outputs": [
        {
          "output_type": "execute_result",
          "data": {
            "text/plain": [
              "RandomForestClassifier(bootstrap=True, ccp_alpha=0.0, class_weight=None,\n",
              "                       criterion='entropy', max_depth=670, max_features='log2',\n",
              "                       max_leaf_nodes=None, max_samples=None,\n",
              "                       min_impurity_decrease=0.0, min_impurity_split=None,\n",
              "                       min_samples_leaf=8, min_samples_split=11,\n",
              "                       min_weight_fraction_leaf=0.0, n_estimators=300,\n",
              "                       n_jobs=None, oob_score=False, random_state=None,\n",
              "                       verbose=0, warm_start=False)"
            ]
          },
          "metadata": {
            "tags": []
          },
          "execution_count": 53
        }
      ]
    },
    {
      "cell_type": "code",
      "metadata": {
        "id": "KQ4boP_0QObi"
      },
      "source": [
        "best_grid = grid_search.best_estimator_"
      ],
      "execution_count": null,
      "outputs": []
    },
    {
      "cell_type": "code",
      "metadata": {
        "colab": {
          "base_uri": "https://localhost:8080/"
        },
        "id": "DEaKdg7lQVGW",
        "outputId": "bfd55b08-278c-4a7f-9a9a-8be9a4c18a3a"
      },
      "source": [
        "best_grid"
      ],
      "execution_count": null,
      "outputs": [
        {
          "output_type": "execute_result",
          "data": {
            "text/plain": [
              "RandomForestClassifier(bootstrap=True, ccp_alpha=0.0, class_weight=None,\n",
              "                       criterion='entropy', max_depth=670, max_features='log2',\n",
              "                       max_leaf_nodes=None, max_samples=None,\n",
              "                       min_impurity_decrease=0.0, min_impurity_split=None,\n",
              "                       min_samples_leaf=8, min_samples_split=11,\n",
              "                       min_weight_fraction_leaf=0.0, n_estimators=300,\n",
              "                       n_jobs=None, oob_score=False, random_state=None,\n",
              "                       verbose=0, warm_start=False)"
            ]
          },
          "metadata": {
            "tags": []
          },
          "execution_count": 55
        }
      ]
    },
    {
      "cell_type": "code",
      "metadata": {
        "colab": {
          "base_uri": "https://localhost:8080/"
        },
        "id": "uOK9ezq5Qwt6",
        "outputId": "45c19105-d6ed-4350-b762-2a57a96f2be2"
      },
      "source": [
        "y_pred = best_grid.predict(X_test)\n",
        "print(confusion_matrix(y_test, y_pred))\n",
        "print(\"Accuracy Score {}\".format(accuracy_score(y_test, y_pred)))\n",
        "print(\"Classification report: {}\".format(classification_report(y_test, y_pred)))"
      ],
      "execution_count": null,
      "outputs": [
        {
          "output_type": "stream",
          "text": [
            "[[80 12]\n",
            " [29 33]]\n",
            "Accuracy Score 0.7337662337662337\n",
            "Classification report:               precision    recall  f1-score   support\n",
            "\n",
            "           0       0.73      0.87      0.80        92\n",
            "           1       0.73      0.53      0.62        62\n",
            "\n",
            "    accuracy                           0.73       154\n",
            "   macro avg       0.73      0.70      0.71       154\n",
            "weighted avg       0.73      0.73      0.72       154\n",
            "\n"
          ],
          "name": "stdout"
        }
      ]
    },
    {
      "cell_type": "code",
      "metadata": {
        "id": "QlqWfPHBRmnV"
      },
      "source": [
        "pip install hyperopt"
      ],
      "execution_count": null,
      "outputs": []
    },
    {
      "cell_type": "code",
      "metadata": {
        "id": "4AQ94ZmTTjQh"
      },
      "source": [
        "from hyperopt import hp, fmin, tpe, STATUS_OK, Trials"
      ],
      "execution_count": null,
      "outputs": []
    },
    {
      "cell_type": "code",
      "metadata": {
        "id": "TMG7iHJFTw_r"
      },
      "source": [
        "space = {'criterion': hp.choice('criterion', ['entropy', 'gini']),\n",
        "         'max_depth': hp.quniform('max_depth', 10,1200,10),\n",
        "         'max_features': hp.choice('max_features', ['auto', 'sqrt', 'log2', None]),\n",
        "         'min_samples_leaf': hp.uniform('min_samples_leaf', 0, 0.5),\n",
        "         'min_samples_split': hp.uniform('min_samples_split', 0, 1),\n",
        "         'n_estimators': hp.choice('n_estimators', [10,50,300,750,1200,1300,1500])}"
      ],
      "execution_count": null,
      "outputs": []
    },
    {
      "cell_type": "code",
      "metadata": {
        "colab": {
          "base_uri": "https://localhost:8080/"
        },
        "id": "2NM8HovLWuTS",
        "outputId": "c60fc299-d3e1-4b52-8ea0-a3bb57b56bb1"
      },
      "source": [
        "space"
      ],
      "execution_count": null,
      "outputs": [
        {
          "output_type": "execute_result",
          "data": {
            "text/plain": [
              "{'criterion': <hyperopt.pyll.base.Apply at 0x7fa637e7c7b8>,\n",
              " 'max_depth': <hyperopt.pyll.base.Apply at 0x7fa637e7c4a8>,\n",
              " 'max_features': <hyperopt.pyll.base.Apply at 0x7fa637e7c198>,\n",
              " 'min_samples_leaf': <hyperopt.pyll.base.Apply at 0x7fa637e7cf98>,\n",
              " 'min_samples_split': <hyperopt.pyll.base.Apply at 0x7fa637e50080>,\n",
              " 'n_estimators': <hyperopt.pyll.base.Apply at 0x7fa637e501d0>}"
            ]
          },
          "metadata": {
            "tags": []
          },
          "execution_count": 61
        }
      ]
    },
    {
      "cell_type": "code",
      "metadata": {
        "colab": {
          "base_uri": "https://localhost:8080/"
        },
        "id": "-ArBeHwleQNn",
        "outputId": "4f64b308-306b-4e9d-9677-54aefba115b6"
      },
      "source": [
        "space['criterion']"
      ],
      "execution_count": null,
      "outputs": [
        {
          "output_type": "execute_result",
          "data": {
            "text/plain": [
              "<hyperopt.pyll.base.Apply at 0x7fa637e7c7b8>"
            ]
          },
          "metadata": {
            "tags": []
          },
          "execution_count": 63
        }
      ]
    },
    {
      "cell_type": "code",
      "metadata": {
        "id": "oEprI9jmWv4f"
      },
      "source": [
        "\n",
        "def objective(space):\n",
        "    model = RandomForestClassifier(criterion = space['criterion'], max_depth = space['max_depth'],\n",
        "                                 max_features = space['max_features'],\n",
        "                                 min_samples_leaf = space['min_samples_leaf'],\n",
        "                                 min_samples_split = space['min_samples_split'],\n",
        "                                 n_estimators = space['n_estimators'], \n",
        "                                 )\n",
        "    \n",
        "    accuracy = cross_val_score(model, X_train, y_train, cv = 5).mean()\n",
        "\n",
        "    # We aim to maximize accuracy, therefore we return it as a negative value\n",
        "    return {'loss': -accuracy, 'status': STATUS_OK }"
      ],
      "execution_count": null,
      "outputs": []
    },
    {
      "cell_type": "code",
      "metadata": {
        "colab": {
          "base_uri": "https://localhost:8080/"
        },
        "id": "9U2T5hbegGDk",
        "outputId": "21a4a194-784a-4c39-a45e-211e5f88f627"
      },
      "source": [
        "from sklearn.model_selection import cross_val_score\n",
        "trials = Trials()\n",
        "\n",
        "best = fmin(fn = objective,\n",
        "            space = space,\n",
        "            algo = tpe.suggest,\n",
        "            max_evals = 80,\n",
        "            trials = trials)\n",
        "\n",
        "best"
      ],
      "execution_count": null,
      "outputs": [
        {
          "output_type": "stream",
          "text": [
            "100%|██████████| 80/80 [06:20<00:00,  4.76s/it, best loss: -0.7833533253365321]\n"
          ],
          "name": "stdout"
        },
        {
          "output_type": "execute_result",
          "data": {
            "text/plain": [
              "{'criterion': 0,\n",
              " 'max_depth': 500.0,\n",
              " 'max_features': 3,\n",
              " 'min_samples_leaf': 0.048630030301599604,\n",
              " 'min_samples_split': 0.16568173929297902,\n",
              " 'n_estimators': 2}"
            ]
          },
          "metadata": {
            "tags": []
          },
          "execution_count": 69
        }
      ]
    },
    {
      "cell_type": "code",
      "metadata": {
        "colab": {
          "base_uri": "https://localhost:8080/"
        },
        "id": "5VPe6k9utFOk",
        "outputId": "e32b9678-17c8-46be-af72-7430e74dabda"
      },
      "source": [
        "crit = {0: 'entropy', 1: 'gini'}\n",
        "feat = {0: 'auto', 1: 'sqrt', 2: 'log2', 3: None}\n",
        "\n",
        "est = {0:10, 1:50, 2:300, 3:750, 4:1200, 5:1300, 6:1500}\n",
        "\n",
        "print(crit[best['criterion']])\n",
        "print(feat[best['max_features']])\n",
        "print(est[best['n_estimators']])"
      ],
      "execution_count": null,
      "outputs": [
        {
          "output_type": "stream",
          "text": [
            "entropy\n",
            "None\n",
            "300\n"
          ],
          "name": "stdout"
        }
      ]
    },
    {
      "cell_type": "code",
      "metadata": {
        "colab": {
          "base_uri": "https://localhost:8080/"
        },
        "id": "TYKd2NmHwvdh",
        "outputId": "217c91bd-e3c4-4258-fb39-29cacbef13b0"
      },
      "source": [
        "best['min_samples_leaf']"
      ],
      "execution_count": null,
      "outputs": [
        {
          "output_type": "execute_result",
          "data": {
            "text/plain": [
              "0.048630030301599604"
            ]
          },
          "metadata": {
            "tags": []
          },
          "execution_count": 71
        }
      ]
    },
    {
      "cell_type": "code",
      "metadata": {
        "colab": {
          "base_uri": "https://localhost:8080/"
        },
        "id": "j7qTVQEEw2r1",
        "outputId": "9563fe52-7a5f-41cc-d90c-aca8f5b83c1e"
      },
      "source": [
        "trainedforest = RandomForestClassifier(criterion = crit[best['criterion']], max_depth = best['max_depth'], \n",
        "                                       max_features = feat[best['max_features']], \n",
        "                                       min_samples_leaf = best['min_samples_leaf'], \n",
        "                                       min_samples_split = best['min_samples_split'], \n",
        "                                       n_estimators = est[best['n_estimators']]).fit(X_train,y_train)\n",
        "predictionforest = trainedforest.predict(X_test)\n",
        "print(confusion_matrix(y_test,predictionforest))\n",
        "print(accuracy_score(y_test,predictionforest))\n",
        "print(classification_report(y_test,predictionforest))\n",
        "acc5 = accuracy_score(y_test,predictionforest)"
      ],
      "execution_count": null,
      "outputs": [
        {
          "output_type": "stream",
          "text": [
            "[[76 16]\n",
            " [33 29]]\n",
            "0.6818181818181818\n",
            "              precision    recall  f1-score   support\n",
            "\n",
            "           0       0.70      0.83      0.76        92\n",
            "           1       0.64      0.47      0.54        62\n",
            "\n",
            "    accuracy                           0.68       154\n",
            "   macro avg       0.67      0.65      0.65       154\n",
            "weighted avg       0.68      0.68      0.67       154\n",
            "\n"
          ],
          "name": "stdout"
        }
      ]
    },
    {
      "cell_type": "markdown",
      "metadata": {
        "id": "axGULcM9N2mb"
      },
      "source": [
        "# Genetic Algorithms"
      ]
    },
    {
      "cell_type": "code",
      "metadata": {
        "colab": {
          "base_uri": "https://localhost:8080/"
        },
        "id": "1L6yyzTSyTSm",
        "outputId": "f6815560-870f-4e13-d12f-32984e3be40d"
      },
      "source": [
        "import numpy as np\n",
        "from sklearn.model_selection import RandomizedSearchCV\n",
        "n_estimators = [int(x) for x in np.linspace(start = 200, stop = 2000, num = 10)]\n",
        "max_fatures = ['auto', 'sqrt', 'log2']\n",
        "\n",
        "max_depth = [int(x) for x in np.linspace(10,1000, 10)]\n",
        "\n",
        "min_samples_split = [2,5,10,14]\n",
        "min_samples_leaf = [1,2,4,6,8]\n",
        "\n",
        "param = {'n_estimators': n_estimators,\n",
        "         'max_features': max_features,\n",
        "         'max_depth': max_depth,\n",
        "         'min_samples_split': min_samples_split,\n",
        "         'min_samples_leaf': min_samples_leaf,\n",
        "         'criterion': ['entropy', 'gini']}\n",
        "\n",
        "print(param)"
      ],
      "execution_count": null,
      "outputs": [
        {
          "output_type": "stream",
          "text": [
            "{'n_estimators': [200, 400, 600, 800, 1000, 1200, 1400, 1600, 1800, 2000], 'max_features': ['auto', 'sqrt', 'log2'], 'max_depth': [10, 120, 230, 340, 450, 560, 670, 780, 890, 1000], 'min_samples_split': [2, 5, 10, 14], 'min_samples_leaf': [1, 2, 4, 6, 8], 'criterion': ['entropy', 'gini']}\n"
          ],
          "name": "stdout"
        }
      ]
    },
    {
      "cell_type": "code",
      "metadata": {
        "colab": {
          "base_uri": "https://localhost:8080/"
        },
        "id": "EdYpYhc5O7dy",
        "outputId": "4a731a02-6a26-435c-ef84-5ba212dadfcd"
      },
      "source": [
        "pip install tensorflow"
      ],
      "execution_count": null,
      "outputs": [
        {
          "output_type": "stream",
          "text": [
            "Requirement already satisfied: tensorflow in /usr/local/lib/python3.6/dist-packages (2.3.0)\n",
            "Requirement already satisfied: termcolor>=1.1.0 in /usr/local/lib/python3.6/dist-packages (from tensorflow) (1.1.0)\n",
            "Requirement already satisfied: absl-py>=0.7.0 in /usr/local/lib/python3.6/dist-packages (from tensorflow) (0.10.0)\n",
            "Requirement already satisfied: astunparse==1.6.3 in /usr/local/lib/python3.6/dist-packages (from tensorflow) (1.6.3)\n",
            "Requirement already satisfied: wheel>=0.26 in /usr/local/lib/python3.6/dist-packages (from tensorflow) (0.35.1)\n",
            "Requirement already satisfied: opt-einsum>=2.3.2 in /usr/local/lib/python3.6/dist-packages (from tensorflow) (3.3.0)\n",
            "Requirement already satisfied: protobuf>=3.9.2 in /usr/local/lib/python3.6/dist-packages (from tensorflow) (3.12.4)\n",
            "Requirement already satisfied: scipy==1.4.1 in /usr/local/lib/python3.6/dist-packages (from tensorflow) (1.4.1)\n",
            "Requirement already satisfied: six>=1.12.0 in /usr/local/lib/python3.6/dist-packages (from tensorflow) (1.15.0)\n",
            "Requirement already satisfied: google-pasta>=0.1.8 in /usr/local/lib/python3.6/dist-packages (from tensorflow) (0.2.0)\n",
            "Requirement already satisfied: tensorboard<3,>=2.3.0 in /usr/local/lib/python3.6/dist-packages (from tensorflow) (2.3.0)\n",
            "Requirement already satisfied: wrapt>=1.11.1 in /usr/local/lib/python3.6/dist-packages (from tensorflow) (1.12.1)\n",
            "Requirement already satisfied: gast==0.3.3 in /usr/local/lib/python3.6/dist-packages (from tensorflow) (0.3.3)\n",
            "Requirement already satisfied: grpcio>=1.8.6 in /usr/local/lib/python3.6/dist-packages (from tensorflow) (1.33.2)\n",
            "Requirement already satisfied: keras-preprocessing<1.2,>=1.1.1 in /usr/local/lib/python3.6/dist-packages (from tensorflow) (1.1.2)\n",
            "Requirement already satisfied: numpy<1.19.0,>=1.16.0 in /usr/local/lib/python3.6/dist-packages (from tensorflow) (1.18.5)\n",
            "Requirement already satisfied: h5py<2.11.0,>=2.10.0 in /usr/local/lib/python3.6/dist-packages (from tensorflow) (2.10.0)\n",
            "Requirement already satisfied: tensorflow-estimator<2.4.0,>=2.3.0 in /usr/local/lib/python3.6/dist-packages (from tensorflow) (2.3.0)\n",
            "Requirement already satisfied: setuptools in /usr/local/lib/python3.6/dist-packages (from protobuf>=3.9.2->tensorflow) (50.3.2)\n",
            "Requirement already satisfied: google-auth<2,>=1.6.3 in /usr/local/lib/python3.6/dist-packages (from tensorboard<3,>=2.3.0->tensorflow) (1.17.2)\n",
            "Requirement already satisfied: requests<3,>=2.21.0 in /usr/local/lib/python3.6/dist-packages (from tensorboard<3,>=2.3.0->tensorflow) (2.23.0)\n",
            "Requirement already satisfied: tensorboard-plugin-wit>=1.6.0 in /usr/local/lib/python3.6/dist-packages (from tensorboard<3,>=2.3.0->tensorflow) (1.7.0)\n",
            "Requirement already satisfied: markdown>=2.6.8 in /usr/local/lib/python3.6/dist-packages (from tensorboard<3,>=2.3.0->tensorflow) (3.3.3)\n",
            "Requirement already satisfied: google-auth-oauthlib<0.5,>=0.4.1 in /usr/local/lib/python3.6/dist-packages (from tensorboard<3,>=2.3.0->tensorflow) (0.4.2)\n",
            "Requirement already satisfied: werkzeug>=0.11.15 in /usr/local/lib/python3.6/dist-packages (from tensorboard<3,>=2.3.0->tensorflow) (1.0.1)\n",
            "Requirement already satisfied: rsa<5,>=3.1.4; python_version >= \"3\" in /usr/local/lib/python3.6/dist-packages (from google-auth<2,>=1.6.3->tensorboard<3,>=2.3.0->tensorflow) (4.6)\n",
            "Requirement already satisfied: cachetools<5.0,>=2.0.0 in /usr/local/lib/python3.6/dist-packages (from google-auth<2,>=1.6.3->tensorboard<3,>=2.3.0->tensorflow) (4.1.1)\n",
            "Requirement already satisfied: pyasn1-modules>=0.2.1 in /usr/local/lib/python3.6/dist-packages (from google-auth<2,>=1.6.3->tensorboard<3,>=2.3.0->tensorflow) (0.2.8)\n",
            "Requirement already satisfied: idna<3,>=2.5 in /usr/local/lib/python3.6/dist-packages (from requests<3,>=2.21.0->tensorboard<3,>=2.3.0->tensorflow) (2.10)\n",
            "Requirement already satisfied: urllib3!=1.25.0,!=1.25.1,<1.26,>=1.21.1 in /usr/local/lib/python3.6/dist-packages (from requests<3,>=2.21.0->tensorboard<3,>=2.3.0->tensorflow) (1.24.3)\n",
            "Requirement already satisfied: certifi>=2017.4.17 in /usr/local/lib/python3.6/dist-packages (from requests<3,>=2.21.0->tensorboard<3,>=2.3.0->tensorflow) (2020.6.20)\n",
            "Requirement already satisfied: chardet<4,>=3.0.2 in /usr/local/lib/python3.6/dist-packages (from requests<3,>=2.21.0->tensorboard<3,>=2.3.0->tensorflow) (3.0.4)\n",
            "Requirement already satisfied: importlib-metadata; python_version < \"3.8\" in /usr/local/lib/python3.6/dist-packages (from markdown>=2.6.8->tensorboard<3,>=2.3.0->tensorflow) (2.0.0)\n",
            "Requirement already satisfied: requests-oauthlib>=0.7.0 in /usr/local/lib/python3.6/dist-packages (from google-auth-oauthlib<0.5,>=0.4.1->tensorboard<3,>=2.3.0->tensorflow) (1.3.0)\n",
            "Requirement already satisfied: pyasn1>=0.1.3 in /usr/local/lib/python3.6/dist-packages (from rsa<5,>=3.1.4; python_version >= \"3\"->google-auth<2,>=1.6.3->tensorboard<3,>=2.3.0->tensorflow) (0.4.8)\n",
            "Requirement already satisfied: zipp>=0.5 in /usr/local/lib/python3.6/dist-packages (from importlib-metadata; python_version < \"3.8\"->markdown>=2.6.8->tensorboard<3,>=2.3.0->tensorflow) (3.4.0)\n",
            "Requirement already satisfied: oauthlib>=3.0.0 in /usr/local/lib/python3.6/dist-packages (from requests-oauthlib>=0.7.0->google-auth-oauthlib<0.5,>=0.4.1->tensorboard<3,>=2.3.0->tensorflow) (3.1.0)\n"
          ],
          "name": "stdout"
        }
      ]
    },
    {
      "cell_type": "code",
      "metadata": {
        "colab": {
          "base_uri": "https://localhost:8080/",
          "height": 1000
        },
        "id": "KPR3dNpc0e7y",
        "outputId": "f3bea6df-34d2-42cf-90d3-f73d51e4cf9c"
      },
      "source": [
        "# For the latest nightly build:\n",
        "!pip install tf-nightly"
      ],
      "execution_count": null,
      "outputs": [
        {
          "output_type": "stream",
          "text": [
            "Collecting tf-nightly\n",
            "\u001b[?25l  Downloading https://files.pythonhosted.org/packages/6d/97/ac9bcc975d94ef933b4e5f4c1fc06e347e066a417c57e9c49c7e53f542cf/tf_nightly-2.5.0.dev20201123-cp36-cp36m-manylinux2010_x86_64.whl (397.6MB)\n",
            "\u001b[K     |████████████████████████████████| 397.6MB 38kB/s \n",
            "\u001b[?25hCollecting numpy~=1.19.2\n",
            "\u001b[?25l  Downloading https://files.pythonhosted.org/packages/87/86/753182c9085ba4936c0076269a571613387cdb77ae2bf537448bfd63472c/numpy-1.19.4-cp36-cp36m-manylinux2010_x86_64.whl (14.5MB)\n",
            "\u001b[K     |████████████████████████████████| 14.5MB 340kB/s \n",
            "\u001b[?25hRequirement already satisfied: google-pasta~=0.2 in /usr/local/lib/python3.6/dist-packages (from tf-nightly) (0.2.0)\n",
            "Requirement already satisfied: gast==0.3.3 in /usr/local/lib/python3.6/dist-packages (from tf-nightly) (0.3.3)\n",
            "Collecting tf-estimator-nightly~=2.4.0.dev\n",
            "\u001b[?25l  Downloading https://files.pythonhosted.org/packages/89/d2/2131f5a0f0d14bae7f4d332724748b9ca6746b0d32f5c76145f0707f47d8/tf_estimator_nightly-2.4.0.dev2020102301-py2.py3-none-any.whl (461kB)\n",
            "\u001b[K     |████████████████████████████████| 471kB 42.1MB/s \n",
            "\u001b[?25hRequirement already satisfied: h5py~=2.10.0 in /usr/local/lib/python3.6/dist-packages (from tf-nightly) (2.10.0)\n",
            "Collecting flatbuffers~=1.12.0\n",
            "  Downloading https://files.pythonhosted.org/packages/eb/26/712e578c5f14e26ae3314c39a1bdc4eb2ec2f4ddc89b708cf8e0a0d20423/flatbuffers-1.12-py2.py3-none-any.whl\n",
            "Requirement already satisfied: keras-preprocessing~=1.1.2 in /usr/local/lib/python3.6/dist-packages (from tf-nightly) (1.1.2)\n",
            "Requirement already satisfied: six~=1.15.0 in /usr/local/lib/python3.6/dist-packages (from tf-nightly) (1.15.0)\n",
            "Requirement already satisfied: wrapt~=1.12.1 in /usr/local/lib/python3.6/dist-packages (from tf-nightly) (1.12.1)\n",
            "Collecting protobuf~=3.13.0\n",
            "\u001b[?25l  Downloading https://files.pythonhosted.org/packages/30/79/510974552cebff2ba04038544799450defe75e96ea5f1675dbf72cc8744f/protobuf-3.13.0-cp36-cp36m-manylinux1_x86_64.whl (1.3MB)\n",
            "\u001b[K     |████████████████████████████████| 1.3MB 39.9MB/s \n",
            "\u001b[?25hRequirement already satisfied: astunparse~=1.6.3 in /usr/local/lib/python3.6/dist-packages (from tf-nightly) (1.6.3)\n",
            "Requirement already satisfied: absl-py~=0.10 in /usr/local/lib/python3.6/dist-packages (from tf-nightly) (0.10.0)\n",
            "Collecting tb-nightly~=2.5.0.a\n",
            "\u001b[?25l  Downloading https://files.pythonhosted.org/packages/df/35/cfa4adc4d2190f96a527423f00be06857f8e9092f604740b408f360cc6ff/tb_nightly-2.5.0a20201122-py3-none-any.whl (10.6MB)\n",
            "\u001b[K     |████████████████████████████████| 10.6MB 193kB/s \n",
            "\u001b[?25hRequirement already satisfied: typing-extensions~=3.7.4 in /usr/local/lib/python3.6/dist-packages (from tf-nightly) (3.7.4.3)\n",
            "Requirement already satisfied: wheel~=0.35 in /usr/local/lib/python3.6/dist-packages (from tf-nightly) (0.35.1)\n",
            "Requirement already satisfied: termcolor~=1.1.0 in /usr/local/lib/python3.6/dist-packages (from tf-nightly) (1.1.0)\n",
            "Collecting grpcio~=1.32.0\n",
            "\u001b[?25l  Downloading https://files.pythonhosted.org/packages/f0/00/b393f5d0e92b37592a41357ea3077010c95400c907f6b9af01f4f6abe140/grpcio-1.32.0-cp36-cp36m-manylinux2014_x86_64.whl (3.8MB)\n",
            "\u001b[K     |████████████████████████████████| 3.8MB 35.0MB/s \n",
            "\u001b[?25hRequirement already satisfied: opt-einsum~=3.3.0 in /usr/local/lib/python3.6/dist-packages (from tf-nightly) (3.3.0)\n",
            "Requirement already satisfied: setuptools in /usr/local/lib/python3.6/dist-packages (from protobuf~=3.13.0->tf-nightly) (50.3.2)\n",
            "Requirement already satisfied: werkzeug>=0.11.15 in /usr/local/lib/python3.6/dist-packages (from tb-nightly~=2.5.0.a->tf-nightly) (1.0.1)\n",
            "Requirement already satisfied: google-auth<2,>=1.6.3 in /usr/local/lib/python3.6/dist-packages (from tb-nightly~=2.5.0.a->tf-nightly) (1.17.2)\n",
            "Requirement already satisfied: markdown>=2.6.8 in /usr/local/lib/python3.6/dist-packages (from tb-nightly~=2.5.0.a->tf-nightly) (3.3.3)\n",
            "Requirement already satisfied: google-auth-oauthlib<0.5,>=0.4.1 in /usr/local/lib/python3.6/dist-packages (from tb-nightly~=2.5.0.a->tf-nightly) (0.4.2)\n",
            "Requirement already satisfied: requests<3,>=2.21.0 in /usr/local/lib/python3.6/dist-packages (from tb-nightly~=2.5.0.a->tf-nightly) (2.23.0)\n",
            "Requirement already satisfied: tensorboard-plugin-wit>=1.6.0 in /usr/local/lib/python3.6/dist-packages (from tb-nightly~=2.5.0.a->tf-nightly) (1.7.0)\n",
            "Requirement already satisfied: rsa<5,>=3.1.4; python_version >= \"3\" in /usr/local/lib/python3.6/dist-packages (from google-auth<2,>=1.6.3->tb-nightly~=2.5.0.a->tf-nightly) (4.6)\n",
            "Requirement already satisfied: pyasn1-modules>=0.2.1 in /usr/local/lib/python3.6/dist-packages (from google-auth<2,>=1.6.3->tb-nightly~=2.5.0.a->tf-nightly) (0.2.8)\n",
            "Requirement already satisfied: cachetools<5.0,>=2.0.0 in /usr/local/lib/python3.6/dist-packages (from google-auth<2,>=1.6.3->tb-nightly~=2.5.0.a->tf-nightly) (4.1.1)\n",
            "Requirement already satisfied: importlib-metadata; python_version < \"3.8\" in /usr/local/lib/python3.6/dist-packages (from markdown>=2.6.8->tb-nightly~=2.5.0.a->tf-nightly) (2.0.0)\n",
            "Requirement already satisfied: requests-oauthlib>=0.7.0 in /usr/local/lib/python3.6/dist-packages (from google-auth-oauthlib<0.5,>=0.4.1->tb-nightly~=2.5.0.a->tf-nightly) (1.3.0)\n",
            "Requirement already satisfied: chardet<4,>=3.0.2 in /usr/local/lib/python3.6/dist-packages (from requests<3,>=2.21.0->tb-nightly~=2.5.0.a->tf-nightly) (3.0.4)\n",
            "Requirement already satisfied: idna<3,>=2.5 in /usr/local/lib/python3.6/dist-packages (from requests<3,>=2.21.0->tb-nightly~=2.5.0.a->tf-nightly) (2.10)\n",
            "Requirement already satisfied: certifi>=2017.4.17 in /usr/local/lib/python3.6/dist-packages (from requests<3,>=2.21.0->tb-nightly~=2.5.0.a->tf-nightly) (2020.6.20)\n",
            "Requirement already satisfied: urllib3!=1.25.0,!=1.25.1,<1.26,>=1.21.1 in /usr/local/lib/python3.6/dist-packages (from requests<3,>=2.21.0->tb-nightly~=2.5.0.a->tf-nightly) (1.24.3)\n",
            "Requirement already satisfied: pyasn1>=0.1.3 in /usr/local/lib/python3.6/dist-packages (from rsa<5,>=3.1.4; python_version >= \"3\"->google-auth<2,>=1.6.3->tb-nightly~=2.5.0.a->tf-nightly) (0.4.8)\n",
            "Requirement already satisfied: zipp>=0.5 in /usr/local/lib/python3.6/dist-packages (from importlib-metadata; python_version < \"3.8\"->markdown>=2.6.8->tb-nightly~=2.5.0.a->tf-nightly) (3.4.0)\n",
            "Requirement already satisfied: oauthlib>=3.0.0 in /usr/local/lib/python3.6/dist-packages (from requests-oauthlib>=0.7.0->google-auth-oauthlib<0.5,>=0.4.1->tb-nightly~=2.5.0.a->tf-nightly) (3.1.0)\n",
            "\u001b[31mERROR: tensorflow 2.3.0 has requirement numpy<1.19.0,>=1.16.0, but you'll have numpy 1.19.4 which is incompatible.\u001b[0m\n",
            "\u001b[31mERROR: datascience 0.10.6 has requirement folium==0.2.1, but you'll have folium 0.8.3 which is incompatible.\u001b[0m\n",
            "\u001b[31mERROR: albumentations 0.1.12 has requirement imgaug<0.2.7,>=0.2.5, but you'll have imgaug 0.2.9 which is incompatible.\u001b[0m\n",
            "Installing collected packages: numpy, tf-estimator-nightly, flatbuffers, protobuf, grpcio, tb-nightly, tf-nightly\n",
            "  Found existing installation: numpy 1.18.5\n",
            "    Uninstalling numpy-1.18.5:\n",
            "      Successfully uninstalled numpy-1.18.5\n",
            "  Found existing installation: protobuf 3.12.4\n",
            "    Uninstalling protobuf-3.12.4:\n",
            "      Successfully uninstalled protobuf-3.12.4\n",
            "  Found existing installation: grpcio 1.33.2\n",
            "    Uninstalling grpcio-1.33.2:\n",
            "      Successfully uninstalled grpcio-1.33.2\n",
            "Successfully installed flatbuffers-1.12 grpcio-1.32.0 numpy-1.19.4 protobuf-3.13.0 tb-nightly-2.5.0a20201122 tf-estimator-nightly-2.4.0.dev2020102301 tf-nightly-2.5.0.dev20201123\n"
          ],
          "name": "stdout"
        },
        {
          "output_type": "display_data",
          "data": {
            "application/vnd.colab-display-data+json": {
              "pip_warning": {
                "packages": [
                  "google",
                  "grpc",
                  "numpy"
                ]
              }
            }
          },
          "metadata": {
            "tags": []
          }
        }
      ]
    },
    {
      "cell_type": "code",
      "metadata": {
        "colab": {
          "base_uri": "https://localhost:8080/",
          "height": 380
        },
        "id": "7fNJv7sbPnpl",
        "outputId": "efd41fe2-498b-41f9-f2a4-b4466756b059"
      },
      "source": [
        "from tpot import TPOTClassifier\n",
        "\n",
        "\n",
        "tpot_classifier = TPOTClassifier(generations= 5, population_size= 24, offspring_size= 12,\n",
        "                                 verbosity= 2, early_stop= 12,\n",
        "                                 config_dict={'sklearn.ensemble.RandomForestClassifier': param}, \n",
        "                                 cv = 4, scoring = 'accuracy')\n",
        "tpot_classifier.fit(X_train,y_train)"
      ],
      "execution_count": null,
      "outputs": [
        {
          "output_type": "error",
          "ename": "ModuleNotFoundError",
          "evalue": "ignored",
          "traceback": [
            "\u001b[0;31m---------------------------------------------------------------------------\u001b[0m",
            "\u001b[0;31mModuleNotFoundError\u001b[0m                       Traceback (most recent call last)",
            "\u001b[0;32m<ipython-input-79-fa0782fa004b>\u001b[0m in \u001b[0;36m<module>\u001b[0;34m()\u001b[0m\n\u001b[0;32m----> 1\u001b[0;31m \u001b[0;32mfrom\u001b[0m \u001b[0mtpot\u001b[0m \u001b[0;32mimport\u001b[0m \u001b[0mTPOTClassifier\u001b[0m\u001b[0;34m\u001b[0m\u001b[0;34m\u001b[0m\u001b[0m\n\u001b[0m\u001b[1;32m      2\u001b[0m \u001b[0;34m\u001b[0m\u001b[0m\n\u001b[1;32m      3\u001b[0m \u001b[0;34m\u001b[0m\u001b[0m\n\u001b[1;32m      4\u001b[0m tpot_classifier = TPOTClassifier(generations= 5, population_size= 24, offspring_size= 12,\n\u001b[1;32m      5\u001b[0m                                  \u001b[0mverbosity\u001b[0m\u001b[0;34m=\u001b[0m \u001b[0;36m2\u001b[0m\u001b[0;34m,\u001b[0m \u001b[0mearly_stop\u001b[0m\u001b[0;34m=\u001b[0m \u001b[0;36m12\u001b[0m\u001b[0;34m,\u001b[0m\u001b[0;34m\u001b[0m\u001b[0;34m\u001b[0m\u001b[0m\n",
            "\u001b[0;31mModuleNotFoundError\u001b[0m: No module named 'tpot'",
            "",
            "\u001b[0;31m---------------------------------------------------------------------------\u001b[0;32m\nNOTE: If your import is failing due to a missing package, you can\nmanually install dependencies using either !pip or !apt.\n\nTo view examples of installing some common dependencies, click the\n\"Open Examples\" button below.\n\u001b[0;31m---------------------------------------------------------------------------\u001b[0m\n"
          ]
        }
      ]
    },
    {
      "cell_type": "code",
      "metadata": {
        "colab": {
          "base_uri": "https://localhost:8080/",
          "height": 178
        },
        "id": "1N0TZaQGy4V-",
        "outputId": "116f0c79-b76a-4d1b-9034-1beaa71fb54f"
      },
      "source": [
        "accuracy = tpot_classifier.score(X_test, y_test)\n",
        "print(accuracy)"
      ],
      "execution_count": null,
      "outputs": [
        {
          "output_type": "error",
          "ename": "NameError",
          "evalue": "ignored",
          "traceback": [
            "\u001b[0;31m---------------------------------------------------------------------------\u001b[0m",
            "\u001b[0;31mNameError\u001b[0m                                 Traceback (most recent call last)",
            "\u001b[0;32m<ipython-input-80-2ba77b49ed92>\u001b[0m in \u001b[0;36m<module>\u001b[0;34m()\u001b[0m\n\u001b[0;32m----> 1\u001b[0;31m \u001b[0maccuracy\u001b[0m \u001b[0;34m=\u001b[0m \u001b[0mtpot_classifier\u001b[0m\u001b[0;34m.\u001b[0m\u001b[0mscore\u001b[0m\u001b[0;34m(\u001b[0m\u001b[0mX_test\u001b[0m\u001b[0;34m,\u001b[0m \u001b[0my_test\u001b[0m\u001b[0;34m)\u001b[0m\u001b[0;34m\u001b[0m\u001b[0;34m\u001b[0m\u001b[0m\n\u001b[0m\u001b[1;32m      2\u001b[0m \u001b[0mprint\u001b[0m\u001b[0;34m(\u001b[0m\u001b[0maccuracy\u001b[0m\u001b[0;34m)\u001b[0m\u001b[0;34m\u001b[0m\u001b[0;34m\u001b[0m\u001b[0m\n",
            "\u001b[0;31mNameError\u001b[0m: name 'tpot_classifier' is not defined"
          ]
        }
      ]
    },
    {
      "cell_type": "markdown",
      "metadata": {
        "id": "Ousq4OQa2Kbz"
      },
      "source": [
        "# Optuna Algorithm"
      ]
    },
    {
      "cell_type": "code",
      "metadata": {
        "colab": {
          "base_uri": "https://localhost:8080/"
        },
        "id": "GdOld8tg2br1",
        "outputId": "431aeb54-f60c-4e0a-f34a-683e6c32833d"
      },
      "source": [
        "pip install optuna"
      ],
      "execution_count": null,
      "outputs": [
        {
          "output_type": "stream",
          "text": [
            "Collecting optuna\n",
            "\u001b[?25l  Downloading https://files.pythonhosted.org/packages/87/10/06b58f4120f26b603d905a594650440ea1fd74476b8b360dbf01e111469b/optuna-2.3.0.tar.gz (258kB)\n",
            "\r\u001b[K     |█▎                              | 10kB 15.2MB/s eta 0:00:01\r\u001b[K     |██▌                             | 20kB 15.6MB/s eta 0:00:01\r\u001b[K     |███▉                            | 30kB 10.8MB/s eta 0:00:01\r\u001b[K     |█████                           | 40kB 8.9MB/s eta 0:00:01\r\u001b[K     |██████▍                         | 51kB 4.3MB/s eta 0:00:01\r\u001b[K     |███████▋                        | 61kB 4.9MB/s eta 0:00:01\r\u001b[K     |████████▉                       | 71kB 4.9MB/s eta 0:00:01\r\u001b[K     |██████████▏                     | 81kB 5.1MB/s eta 0:00:01\r\u001b[K     |███████████▍                    | 92kB 5.5MB/s eta 0:00:01\r\u001b[K     |████████████▊                   | 102kB 5.8MB/s eta 0:00:01\r\u001b[K     |██████████████                  | 112kB 5.8MB/s eta 0:00:01\r\u001b[K     |███████████████▏                | 122kB 5.8MB/s eta 0:00:01\r\u001b[K     |████████████████▌               | 133kB 5.8MB/s eta 0:00:01\r\u001b[K     |█████████████████▊              | 143kB 5.8MB/s eta 0:00:01\r\u001b[K     |███████████████████             | 153kB 5.8MB/s eta 0:00:01\r\u001b[K     |████████████████████▎           | 163kB 5.8MB/s eta 0:00:01\r\u001b[K     |█████████████████████▌          | 174kB 5.8MB/s eta 0:00:01\r\u001b[K     |██████████████████████▉         | 184kB 5.8MB/s eta 0:00:01\r\u001b[K     |████████████████████████        | 194kB 5.8MB/s eta 0:00:01\r\u001b[K     |█████████████████████████▍      | 204kB 5.8MB/s eta 0:00:01\r\u001b[K     |██████████████████████████▋     | 215kB 5.8MB/s eta 0:00:01\r\u001b[K     |███████████████████████████▉    | 225kB 5.8MB/s eta 0:00:01\r\u001b[K     |█████████████████████████████▏  | 235kB 5.8MB/s eta 0:00:01\r\u001b[K     |██████████████████████████████▍ | 245kB 5.8MB/s eta 0:00:01\r\u001b[K     |███████████████████████████████▊| 256kB 5.8MB/s eta 0:00:01\r\u001b[K     |████████████████████████████████| 266kB 5.8MB/s \n",
            "\u001b[?25h  Installing build dependencies ... \u001b[?25l\u001b[?25hdone\n",
            "  Getting requirements to build wheel ... \u001b[?25l\u001b[?25hdone\n",
            "    Preparing wheel metadata ... \u001b[?25l\u001b[?25hdone\n",
            "Requirement already satisfied: numpy in /usr/local/lib/python3.6/dist-packages (from optuna) (1.19.4)\n",
            "Collecting colorlog\n",
            "  Downloading https://files.pythonhosted.org/packages/4e/c8/c16d30bbed11a1722060014c246d124582d1f781b26f5859d8dacc3e08e1/colorlog-4.6.2-py2.py3-none-any.whl\n",
            "Collecting cmaes>=0.6.0\n",
            "  Downloading https://files.pythonhosted.org/packages/8d/3c/06c76ec8b54b9b1fad7f35e903fd25010fe3e0d41bd94cea5e6f12e0d651/cmaes-0.7.0-py3-none-any.whl\n",
            "Requirement already satisfied: tqdm in /usr/local/lib/python3.6/dist-packages (from optuna) (4.41.1)\n",
            "Collecting cliff\n",
            "\u001b[?25l  Downloading https://files.pythonhosted.org/packages/8a/61/5b64d73b01c1218f55c894b5ec0fb89b32c6960b7f7b3ad9f5ac0c373b9d/cliff-3.5.0-py3-none-any.whl (81kB)\n",
            "\u001b[K     |████████████████████████████████| 81kB 8.1MB/s \n",
            "\u001b[?25hRequirement already satisfied: packaging>=20.0 in /usr/local/lib/python3.6/dist-packages (from optuna) (20.4)\n",
            "Requirement already satisfied: joblib in /usr/local/lib/python3.6/dist-packages (from optuna) (0.17.0)\n",
            "Collecting alembic\n",
            "\u001b[?25l  Downloading https://files.pythonhosted.org/packages/12/aa/c261dfd7f4ba6ce4701846a2689a46e2a172e012171de4378fc2926e3bf0/alembic-1.4.3-py2.py3-none-any.whl (159kB)\n",
            "\u001b[K     |████████████████████████████████| 163kB 26.5MB/s \n",
            "\u001b[?25hRequirement already satisfied: sqlalchemy>=1.1.0 in /usr/local/lib/python3.6/dist-packages (from optuna) (1.3.20)\n",
            "Requirement already satisfied: scipy!=1.4.0 in /usr/local/lib/python3.6/dist-packages (from optuna) (1.4.1)\n",
            "Requirement already satisfied: pyparsing>=2.1.0 in /usr/local/lib/python3.6/dist-packages (from cliff->optuna) (2.4.7)\n",
            "Collecting PrettyTable<0.8,>=0.7.2\n",
            "  Downloading https://files.pythonhosted.org/packages/ef/30/4b0746848746ed5941f052479e7c23d2b56d174b82f4fd34a25e389831f5/prettytable-0.7.2.tar.bz2\n",
            "Requirement already satisfied: six>=1.10.0 in /usr/local/lib/python3.6/dist-packages (from cliff->optuna) (1.15.0)\n",
            "Requirement already satisfied: PyYAML>=3.12 in /usr/local/lib/python3.6/dist-packages (from cliff->optuna) (3.13)\n",
            "Collecting stevedore>=2.0.1\n",
            "\u001b[?25l  Downloading https://files.pythonhosted.org/packages/b8/a1/004f04ba411a8002b02aadb089fd6868116c12ddc9f6d576175e89d07587/stevedore-3.2.2-py3-none-any.whl (42kB)\n",
            "\u001b[K     |████████████████████████████████| 51kB 6.3MB/s \n",
            "\u001b[?25hCollecting pbr!=2.1.0,>=2.0.0\n",
            "\u001b[?25l  Downloading https://files.pythonhosted.org/packages/fb/48/69046506f6ac61c1eaa9a0d42d22d54673b69e176d30ca98e3f61513e980/pbr-5.5.1-py2.py3-none-any.whl (106kB)\n",
            "\u001b[K     |████████████████████████████████| 112kB 34.2MB/s \n",
            "\u001b[?25hCollecting cmd2!=0.8.3,>=0.8.0\n",
            "\u001b[?25l  Downloading https://files.pythonhosted.org/packages/27/54/af6e2703f064485d717cb311d3f9440cd302a823ba6d80a020b59eae166d/cmd2-1.4.0-py3-none-any.whl (133kB)\n",
            "\u001b[K     |████████████████████████████████| 133kB 31.5MB/s \n",
            "\u001b[?25hCollecting python-editor>=0.3\n",
            "  Downloading https://files.pythonhosted.org/packages/c6/d3/201fc3abe391bbae6606e6f1d598c15d367033332bd54352b12f35513717/python_editor-1.0.4-py3-none-any.whl\n",
            "Requirement already satisfied: python-dateutil in /usr/local/lib/python3.6/dist-packages (from alembic->optuna) (2.8.1)\n",
            "Collecting Mako\n",
            "\u001b[?25l  Downloading https://files.pythonhosted.org/packages/a6/37/0e706200d22172eb8fa17d68a7ae22dec7631a0a92266634fb518a88a5b2/Mako-1.1.3-py2.py3-none-any.whl (75kB)\n",
            "\u001b[K     |████████████████████████████████| 81kB 7.8MB/s \n",
            "\u001b[?25hRequirement already satisfied: importlib-metadata>=1.7.0; python_version < \"3.8\" in /usr/local/lib/python3.6/dist-packages (from stevedore>=2.0.1->cliff->optuna) (2.0.0)\n",
            "Requirement already satisfied: wcwidth>=0.1.7 in /usr/local/lib/python3.6/dist-packages (from cmd2!=0.8.3,>=0.8.0->cliff->optuna) (0.2.5)\n",
            "Requirement already satisfied: attrs>=16.3.0 in /usr/local/lib/python3.6/dist-packages (from cmd2!=0.8.3,>=0.8.0->cliff->optuna) (20.2.0)\n",
            "Collecting pyperclip>=1.6\n",
            "  Downloading https://files.pythonhosted.org/packages/6f/4c/0b1d507ad7e8bc31d690d04b4f475e74c2002d060f7994ce8c09612df707/pyperclip-1.8.1.tar.gz\n",
            "Collecting colorama>=0.3.7\n",
            "  Downloading https://files.pythonhosted.org/packages/44/98/5b86278fbbf250d239ae0ecb724f8572af1c91f4a11edf4d36a206189440/colorama-0.4.4-py2.py3-none-any.whl\n",
            "Requirement already satisfied: MarkupSafe>=0.9.2 in /usr/local/lib/python3.6/dist-packages (from Mako->alembic->optuna) (1.1.1)\n",
            "Requirement already satisfied: zipp>=0.5 in /usr/local/lib/python3.6/dist-packages (from importlib-metadata>=1.7.0; python_version < \"3.8\"->stevedore>=2.0.1->cliff->optuna) (3.4.0)\n",
            "Building wheels for collected packages: optuna\n",
            "  Building wheel for optuna (PEP 517) ... \u001b[?25l\u001b[?25hdone\n",
            "  Created wheel for optuna: filename=optuna-2.3.0-cp36-none-any.whl size=359761 sha256=1af983a88c9e777e9874dbe2b4532eb1fa5d8b195238e4d1594767040bf01e7c\n",
            "  Stored in directory: /root/.cache/pip/wheels/fa/91/19/64b0ec6b964f89c0695a9dc6db6f851d0b54c5381a5c9cadfb\n",
            "Successfully built optuna\n",
            "Building wheels for collected packages: PrettyTable, pyperclip\n",
            "  Building wheel for PrettyTable (setup.py) ... \u001b[?25l\u001b[?25hdone\n",
            "  Created wheel for PrettyTable: filename=prettytable-0.7.2-cp36-none-any.whl size=13700 sha256=0e919ff0f0f2797dfc5dbaf4a1e8f2f0bb5fe7fcfe0bd975a13307420db8542b\n",
            "  Stored in directory: /root/.cache/pip/wheels/80/34/1c/3967380d9676d162cb59513bd9dc862d0584e045a162095606\n",
            "  Building wheel for pyperclip (setup.py) ... \u001b[?25l\u001b[?25hdone\n",
            "  Created wheel for pyperclip: filename=pyperclip-1.8.1-cp36-none-any.whl size=11119 sha256=bdfe6dbb1cdbe7f26d52e54cd78e9e6809e4b5d04503457b3e54f5351139df99\n",
            "  Stored in directory: /root/.cache/pip/wheels/44/10/3a/c830e9bb3db2c93274ea1f213a41fabde0d8cf3794251fad0c\n",
            "Successfully built PrettyTable pyperclip\n",
            "Installing collected packages: colorlog, cmaes, PrettyTable, pbr, stevedore, pyperclip, colorama, cmd2, cliff, python-editor, Mako, alembic, optuna\n",
            "  Found existing installation: prettytable 1.0.1\n",
            "    Uninstalling prettytable-1.0.1:\n",
            "      Successfully uninstalled prettytable-1.0.1\n",
            "Successfully installed Mako-1.1.3 PrettyTable-0.7.2 alembic-1.4.3 cliff-3.5.0 cmaes-0.7.0 cmd2-1.4.0 colorama-0.4.4 colorlog-4.6.2 optuna-2.3.0 pbr-5.5.1 pyperclip-1.8.1 python-editor-1.0.4 stevedore-3.2.2\n"
          ],
          "name": "stdout"
        }
      ]
    },
    {
      "cell_type": "code",
      "metadata": {
        "id": "DGfqt6yv1Aao"
      },
      "source": [
        "import optuna\n",
        "import sklearn.svm\n",
        "def objective(trial):\n",
        "\n",
        "    classifier = trial.suggest_categorical('classifier', ['RandomForest', 'SVC'])\n",
        "    \n",
        "    if classifier == 'RandomForest':\n",
        "        n_estimators = trial.suggest_int('n_estimators', 200, 2000,10)\n",
        "        max_depth = int(trial.suggest_float('max_depth', 10, 100, log=True))\n",
        "\n",
        "        clf = sklearn.ensemble.RandomForestClassifier(\n",
        "            n_estimators=n_estimators, max_depth=max_depth)\n",
        "    else:\n",
        "        c = trial.suggest_float('svc_c', 1e-10, 1e10, log=True)\n",
        "        \n",
        "        clf = sklearn.svm.SVC(C=c, gamma='auto')\n",
        "\n",
        "    return sklearn.model_selection.cross_val_score(\n",
        "        clf,X_train,y_train, n_jobs=-1, cv=3).mean()"
      ],
      "execution_count": null,
      "outputs": []
    },
    {
      "cell_type": "code",
      "metadata": {
        "colab": {
          "base_uri": "https://localhost:8080/"
        },
        "id": "WpH8Z3gL3xO2",
        "outputId": "f6a76a8e-bc73-4f5c-d34a-82f255545251"
      },
      "source": [
        "study = optuna.create_study(direction='maximize')\n",
        "study.optimize(objective, n_trials=100)\n",
        "\n",
        "trial = study.best_trial\n",
        "\n",
        "print('Accuracy: {}'.format(trial.value))\n",
        "print(\"Best hyperparameters: {}\".format(trial.params))"
      ],
      "execution_count": null,
      "outputs": [
        {
          "output_type": "stream",
          "text": [
            "\u001b[32m[I 2020-11-23 11:31:06,577]\u001b[0m A new study created in memory with name: no-name-502a1252-e7e2-4951-a52c-5e856517676d\u001b[0m\n",
            "\u001b[32m[I 2020-11-23 11:31:16,234]\u001b[0m Trial 0 finished with value: 0.7606089590307668 and parameters: {'classifier': 'RandomForest', 'n_estimators': 1770, 'max_depth': 11.531937771550425}. Best is trial 0 with value: 0.7606089590307668.\u001b[0m\n",
            "\u001b[32m[I 2020-11-23 11:31:22,768]\u001b[0m Trial 1 finished with value: 0.7606089590307668 and parameters: {'classifier': 'RandomForest', 'n_estimators': 1450, 'max_depth': 25.552271407225916}. Best is trial 0 with value: 0.7606089590307668.\u001b[0m\n",
            "\u001b[32m[I 2020-11-23 11:31:22,835]\u001b[0m Trial 2 finished with value: 0.66449864498645 and parameters: {'classifier': 'SVC', 'svc_c': 1632826112.1431613}. Best is trial 0 with value: 0.7606089590307668.\u001b[0m\n",
            "\u001b[32m[I 2020-11-23 11:31:26,788]\u001b[0m Trial 3 finished with value: 0.7622509166268133 and parameters: {'classifier': 'RandomForest', 'n_estimators': 880, 'max_depth': 11.969552223935043}. Best is trial 3 with value: 0.7622509166268133.\u001b[0m\n",
            "\u001b[32m[I 2020-11-23 11:31:33,637]\u001b[0m Trial 4 finished with value: 0.7573569265104415 and parameters: {'classifier': 'RandomForest', 'n_estimators': 1530, 'max_depth': 62.621035775066744}. Best is trial 3 with value: 0.7622509166268133.\u001b[0m\n",
            "\u001b[32m[I 2020-11-23 11:31:33,704]\u001b[0m Trial 5 finished with value: 0.66449864498645 and parameters: {'classifier': 'SVC', 'svc_c': 38812.70920827515}. Best is trial 3 with value: 0.7622509166268133.\u001b[0m\n",
            "\u001b[32m[I 2020-11-23 11:31:40,059]\u001b[0m Trial 6 finished with value: 0.7606089590307668 and parameters: {'classifier': 'RandomForest', 'n_estimators': 1410, 'max_depth': 20.069400703940808}. Best is trial 3 with value: 0.7622509166268133.\u001b[0m\n",
            "\u001b[32m[I 2020-11-23 11:31:40,125]\u001b[0m Trial 7 finished with value: 0.66449864498645 and parameters: {'classifier': 'SVC', 'svc_c': 3357.7247889980927}. Best is trial 3 with value: 0.7622509166268133.\u001b[0m\n",
            "\u001b[32m[I 2020-11-23 11:31:40,182]\u001b[0m Trial 8 finished with value: 0.66449864498645 and parameters: {'classifier': 'SVC', 'svc_c': 0.06606850386393097}. Best is trial 3 with value: 0.7622509166268133.\u001b[0m\n",
            "\u001b[32m[I 2020-11-23 11:31:40,244]\u001b[0m Trial 9 finished with value: 0.66449864498645 and parameters: {'classifier': 'SVC', 'svc_c': 47350255.43733195}. Best is trial 3 with value: 0.7622509166268133.\u001b[0m\n",
            "\u001b[32m[I 2020-11-23 11:31:42,181]\u001b[0m Trial 10 finished with value: 0.7606009883628247 and parameters: {'classifier': 'RandomForest', 'n_estimators': 430, 'max_depth': 10.927008796269032}. Best is trial 3 with value: 0.7622509166268133.\u001b[0m\n",
            "\u001b[32m[I 2020-11-23 11:31:45,182]\u001b[0m Trial 11 finished with value: 0.7573569265104415 and parameters: {'classifier': 'RandomForest', 'n_estimators': 670, 'max_depth': 10.106055118387912}. Best is trial 3 with value: 0.7622509166268133.\u001b[0m\n",
            "\u001b[32m[I 2020-11-23 11:31:49,130]\u001b[0m Trial 12 finished with value: 0.7638769328869759 and parameters: {'classifier': 'RandomForest', 'n_estimators': 870, 'max_depth': 14.438700826443016}. Best is trial 12 with value: 0.7638769328869759.\u001b[0m\n",
            "\u001b[32m[I 2020-11-23 11:31:53,144]\u001b[0m Trial 13 finished with value: 0.7606249003666506 and parameters: {'classifier': 'RandomForest', 'n_estimators': 900, 'max_depth': 17.28524867396976}. Best is trial 12 with value: 0.7638769328869759.\u001b[0m\n",
            "\u001b[32m[I 2020-11-23 11:31:57,575]\u001b[0m Trial 14 finished with value: 0.7573569265104415 and parameters: {'classifier': 'RandomForest', 'n_estimators': 990, 'max_depth': 45.834377443773754}. Best is trial 12 with value: 0.7638769328869759.\u001b[0m\n",
            "\u001b[32m[I 2020-11-23 11:31:58,688]\u001b[0m Trial 15 finished with value: 0.7622588872947552 and parameters: {'classifier': 'RandomForest', 'n_estimators': 240, 'max_depth': 15.704438564983684}. Best is trial 12 with value: 0.7638769328869759.\u001b[0m\n",
            "\u001b[32m[I 2020-11-23 11:31:59,742]\u001b[0m Trial 16 finished with value: 0.7622668579626972 and parameters: {'classifier': 'RandomForest', 'n_estimators': 230, 'max_depth': 17.79555610187409}. Best is trial 12 with value: 0.7638769328869759.\u001b[0m\n",
            "\u001b[32m[I 2020-11-23 11:32:00,850]\u001b[0m Trial 17 finished with value: 0.7687310696636378 and parameters: {'classifier': 'RandomForest', 'n_estimators': 240, 'max_depth': 36.56424308173393}. Best is trial 17 with value: 0.7687310696636378.\u001b[0m\n",
            "\u001b[32m[I 2020-11-23 11:32:03,441]\u001b[0m Trial 18 finished with value: 0.767136936075243 and parameters: {'classifier': 'RandomForest', 'n_estimators': 570, 'max_depth': 37.510378373274}. Best is trial 17 with value: 0.7687310696636378.\u001b[0m\n",
            "\u001b[32m[I 2020-11-23 11:32:05,654]\u001b[0m Trial 19 finished with value: 0.7557309102502789 and parameters: {'classifier': 'RandomForest', 'n_estimators': 490, 'max_depth': 38.44494969049821}. Best is trial 17 with value: 0.7687310696636378.\u001b[0m\n",
            "\u001b[32m[I 2020-11-23 11:32:08,100]\u001b[0m Trial 20 finished with value: 0.7573648971783835 and parameters: {'classifier': 'RandomForest', 'n_estimators': 540, 'max_depth': 70.82734775515212}. Best is trial 17 with value: 0.7687310696636378.\u001b[0m\n",
            "\u001b[32m[I 2020-11-23 11:32:11,358]\u001b[0m Trial 21 finished with value: 0.7736489717838354 and parameters: {'classifier': 'RandomForest', 'n_estimators': 720, 'max_depth': 30.59942345089515}. Best is trial 21 with value: 0.7736489717838354.\u001b[0m\n",
            "\u001b[32m[I 2020-11-23 11:32:12,275]\u001b[0m Trial 22 finished with value: 0.7540969233221744 and parameters: {'classifier': 'RandomForest', 'n_estimators': 200, 'max_depth': 30.109784756028706}. Best is trial 21 with value: 0.7736489717838354.\u001b[0m\n",
            "\u001b[32m[I 2020-11-23 11:32:15,133]\u001b[0m Trial 23 finished with value: 0.7589909134385461 and parameters: {'classifier': 'RandomForest', 'n_estimators': 640, 'max_depth': 45.44362048400786}. Best is trial 21 with value: 0.7736489717838354.\u001b[0m\n",
            "\u001b[32m[I 2020-11-23 11:32:16,851]\u001b[0m Trial 24 finished with value: 0.755738880918221 and parameters: {'classifier': 'RandomForest', 'n_estimators': 380, 'max_depth': 25.19080387979287}. Best is trial 21 with value: 0.7736489717838354.\u001b[0m\n",
            "\u001b[32m[I 2020-11-23 11:32:22,451]\u001b[0m Trial 25 finished with value: 0.7606169296987088 and parameters: {'classifier': 'RandomForest', 'n_estimators': 1220, 'max_depth': 35.441119915382004}. Best is trial 21 with value: 0.7736489717838354.\u001b[0m\n",
            "\u001b[32m[I 2020-11-23 11:32:25,657]\u001b[0m Trial 26 finished with value: 0.7573648971783835 and parameters: {'classifier': 'RandomForest', 'n_estimators': 680, 'max_depth': 46.212575057039594}. Best is trial 21 with value: 0.7736489717838354.\u001b[0m\n",
            "\u001b[32m[I 2020-11-23 11:32:29,058]\u001b[0m Trial 27 finished with value: 0.7573489558424996 and parameters: {'classifier': 'RandomForest', 'n_estimators': 740, 'max_depth': 28.835763070182125}. Best is trial 21 with value: 0.7736489717838354.\u001b[0m\n",
            "\u001b[32m[I 2020-11-23 11:32:30,782]\u001b[0m Trial 28 finished with value: 0.7557309102502789 and parameters: {'classifier': 'RandomForest', 'n_estimators': 370, 'max_depth': 95.88516917139678}. Best is trial 21 with value: 0.7736489717838354.\u001b[0m\n",
            "\u001b[32m[I 2020-11-23 11:32:35,800]\u001b[0m Trial 29 finished with value: 0.7557229395823369 and parameters: {'classifier': 'RandomForest', 'n_estimators': 1100, 'max_depth': 58.39823792641446}. Best is trial 21 with value: 0.7736489717838354.\u001b[0m\n",
            "\u001b[32m[I 2020-11-23 11:32:37,284]\u001b[0m Trial 30 finished with value: 0.7654949784791966 and parameters: {'classifier': 'RandomForest', 'n_estimators': 320, 'max_depth': 22.224761106375787}. Best is trial 21 with value: 0.7736489717838354.\u001b[0m\n",
            "\u001b[32m[I 2020-11-23 11:32:38,731]\u001b[0m Trial 31 finished with value: 0.767136936075243 and parameters: {'classifier': 'RandomForest', 'n_estimators': 300, 'max_depth': 22.350554955312244}. Best is trial 21 with value: 0.7736489717838354.\u001b[0m\n",
            "\u001b[32m[I 2020-11-23 11:32:39,818]\u001b[0m Trial 32 finished with value: 0.7606408417025347 and parameters: {'classifier': 'RandomForest', 'n_estimators': 230, 'max_depth': 35.63103986153079}. Best is trial 21 with value: 0.7736489717838354.\u001b[0m\n",
            "\u001b[32m[I 2020-11-23 11:32:42,265]\u001b[0m Trial 33 finished with value: 0.7622349752909293 and parameters: {'classifier': 'RandomForest', 'n_estimators': 540, 'max_depth': 26.73455676375382}. Best is trial 21 with value: 0.7736489717838354.\u001b[0m\n",
            "\u001b[32m[I 2020-11-23 11:32:44,748]\u001b[0m Trial 34 finished with value: 0.7589829427706042 and parameters: {'classifier': 'RandomForest', 'n_estimators': 550, 'max_depth': 40.54771763052049}. Best is trial 21 with value: 0.7736489717838354.\u001b[0m\n",
            "\u001b[32m[I 2020-11-23 11:32:53,237]\u001b[0m Trial 35 finished with value: 0.7540969233221744 and parameters: {'classifier': 'RandomForest', 'n_estimators': 1870, 'max_depth': 33.46326839779274}. Best is trial 21 with value: 0.7736489717838354.\u001b[0m\n",
            "\u001b[32m[I 2020-11-23 11:32:58,464]\u001b[0m Trial 36 finished with value: 0.7557229395823369 and parameters: {'classifier': 'RandomForest', 'n_estimators': 760, 'max_depth': 52.47578973363917}. Best is trial 21 with value: 0.7736489717838354.\u001b[0m\n",
            "\u001b[32m[I 2020-11-23 11:32:58,517]\u001b[0m Trial 37 finished with value: 0.66449864498645 and parameters: {'classifier': 'SVC', 'svc_c': 8.060152406149475e-09}. Best is trial 21 with value: 0.7736489717838354.\u001b[0m\n",
            "\u001b[32m[I 2020-11-23 11:33:00,241]\u001b[0m Trial 38 finished with value: 0.7589829427706042 and parameters: {'classifier': 'RandomForest', 'n_estimators': 360, 'max_depth': 22.49251896118224}. Best is trial 21 with value: 0.7736489717838354.\u001b[0m\n",
            "\u001b[32m[I 2020-11-23 11:33:02,356]\u001b[0m Trial 39 finished with value: 0.7589988841064881 and parameters: {'classifier': 'RandomForest', 'n_estimators': 460, 'max_depth': 31.533306469700133}. Best is trial 21 with value: 0.7736489717838354.\u001b[0m\n",
            "\u001b[32m[I 2020-11-23 11:33:02,403]\u001b[0m Trial 40 finished with value: 0.66449864498645 and parameters: {'classifier': 'SVC', 'svc_c': 1.5541818225398114e-10}. Best is trial 21 with value: 0.7736489717838354.\u001b[0m\n",
            "\u001b[32m[I 2020-11-23 11:33:03,317]\u001b[0m Trial 41 finished with value: 0.7655188904830225 and parameters: {'classifier': 'RandomForest', 'n_estimators': 200, 'max_depth': 22.262541651974853}. Best is trial 21 with value: 0.7736489717838354.\u001b[0m\n",
            "\u001b[32m[I 2020-11-23 11:33:04,713]\u001b[0m Trial 42 finished with value: 0.7589909134385461 and parameters: {'classifier': 'RandomForest', 'n_estimators': 300, 'max_depth': 25.090149239808873}. Best is trial 21 with value: 0.7736489717838354.\u001b[0m\n",
            "\u001b[32m[I 2020-11-23 11:33:05,728]\u001b[0m Trial 43 finished with value: 0.7606408417025347 and parameters: {'classifier': 'RandomForest', 'n_estimators': 220, 'max_depth': 21.13367921904841}. Best is trial 21 with value: 0.7736489717838354.\u001b[0m\n",
            "\u001b[32m[I 2020-11-23 11:33:08,564]\u001b[0m Trial 44 finished with value: 0.7606169296987088 and parameters: {'classifier': 'RandomForest', 'n_estimators': 610, 'max_depth': 28.058234525204373}. Best is trial 21 with value: 0.7736489717838354.\u001b[0m\n",
            "\u001b[32m[I 2020-11-23 11:33:10,493]\u001b[0m Trial 45 finished with value: 0.7541128646580583 and parameters: {'classifier': 'RandomForest', 'n_estimators': 420, 'max_depth': 39.53719228263976}. Best is trial 21 with value: 0.7736489717838354.\u001b[0m\n",
            "\u001b[32m[I 2020-11-23 11:33:13,947]\u001b[0m Trial 46 finished with value: 0.7540969233221744 and parameters: {'classifier': 'RandomForest', 'n_estimators': 760, 'max_depth': 18.781033357244322}. Best is trial 21 with value: 0.7736489717838354.\u001b[0m\n",
            "\u001b[32m[I 2020-11-23 11:33:13,999]\u001b[0m Trial 47 finished with value: 0.66449864498645 and parameters: {'classifier': 'SVC', 'svc_c': 3.362418685916121e-05}. Best is trial 21 with value: 0.7736489717838354.\u001b[0m\n",
            "\u001b[32m[I 2020-11-23 11:33:15,399]\u001b[0m Trial 48 finished with value: 0.7606169296987088 and parameters: {'classifier': 'RandomForest', 'n_estimators': 310, 'max_depth': 13.778168420732081}. Best is trial 21 with value: 0.7736489717838354.\u001b[0m\n",
            "\u001b[32m[I 2020-11-23 11:33:19,331]\u001b[0m Trial 49 finished with value: 0.7622429459588713 and parameters: {'classifier': 'RandomForest', 'n_estimators': 870, 'max_depth': 24.016530350620748}. Best is trial 21 with value: 0.7736489717838354.\u001b[0m\n",
            "\u001b[32m[I 2020-11-23 11:33:21,331]\u001b[0m Trial 50 finished with value: 0.7654949784791966 and parameters: {'classifier': 'RandomForest', 'n_estimators': 430, 'max_depth': 30.51557893451363}. Best is trial 21 with value: 0.7736489717838354.\u001b[0m\n",
            "\u001b[32m[I 2020-11-23 11:33:22,658]\u001b[0m Trial 51 finished with value: 0.755738880918221 and parameters: {'classifier': 'RandomForest', 'n_estimators': 290, 'max_depth': 21.486876145739778}. Best is trial 21 with value: 0.7736489717838354.\u001b[0m\n",
            "\u001b[32m[I 2020-11-23 11:33:24,288]\u001b[0m Trial 52 finished with value: 0.7671209947393591 and parameters: {'classifier': 'RandomForest', 'n_estimators': 350, 'max_depth': 19.70577091375214}. Best is trial 21 with value: 0.7736489717838354.\u001b[0m\n",
            "\u001b[32m[I 2020-11-23 11:33:31,579]\u001b[0m Trial 53 finished with value: 0.7606089590307668 and parameters: {'classifier': 'RandomForest', 'n_estimators': 1630, 'max_depth': 17.32843748573126}. Best is trial 21 with value: 0.7736489717838354.\u001b[0m\n",
            "\u001b[32m[I 2020-11-23 11:33:32,505]\u001b[0m Trial 54 finished with value: 0.7638769328869759 and parameters: {'classifier': 'RandomForest', 'n_estimators': 200, 'max_depth': 19.61216508916052}. Best is trial 21 with value: 0.7736489717838354.\u001b[0m\n",
            "\u001b[32m[I 2020-11-23 11:33:34,747]\u001b[0m Trial 55 finished with value: 0.7573409851745576 and parameters: {'classifier': 'RandomForest', 'n_estimators': 490, 'max_depth': 14.99458537516941}. Best is trial 21 with value: 0.7736489717838354.\u001b[0m\n",
            "\u001b[32m[I 2020-11-23 11:33:37,454]\u001b[0m Trial 56 finished with value: 0.7622509166268133 and parameters: {'classifier': 'RandomForest', 'n_estimators': 600, 'max_depth': 42.7627578384601}. Best is trial 21 with value: 0.7736489717838354.\u001b[0m\n",
            "\u001b[32m[I 2020-11-23 11:33:38,397]\u001b[0m Trial 57 finished with value: 0.767144906743185 and parameters: {'classifier': 'RandomForest', 'n_estimators': 200, 'max_depth': 12.097788562194962}. Best is trial 21 with value: 0.7736489717838354.\u001b[0m\n",
            "\u001b[32m[I 2020-11-23 11:33:40,227]\u001b[0m Trial 58 finished with value: 0.7589988841064881 and parameters: {'classifier': 'RandomForest', 'n_estimators': 400, 'max_depth': 35.63974706166302}. Best is trial 21 with value: 0.7736489717838354.\u001b[0m\n",
            "\u001b[32m[I 2020-11-23 11:33:42,494]\u001b[0m Trial 59 finished with value: 0.7540969233221744 and parameters: {'classifier': 'RandomForest', 'n_estimators': 500, 'max_depth': 12.506037565337136}. Best is trial 21 with value: 0.7736489717838354.\u001b[0m\n",
            "\u001b[32m[I 2020-11-23 11:33:42,547]\u001b[0m Trial 60 finished with value: 0.66449864498645 and parameters: {'classifier': 'SVC', 'svc_c': 0.0001458289259494964}. Best is trial 21 with value: 0.7736489717838354.\u001b[0m\n",
            "\u001b[32m[I 2020-11-23 11:33:43,778]\u001b[0m Trial 61 finished with value: 0.7671209947393591 and parameters: {'classifier': 'RandomForest', 'n_estimators': 270, 'max_depth': 10.838854086351876}. Best is trial 21 with value: 0.7736489717838354.\u001b[0m\n",
            "\u001b[32m[I 2020-11-23 11:33:45,031]\u001b[0m Trial 62 finished with value: 0.7573569265104415 and parameters: {'classifier': 'RandomForest', 'n_estimators': 270, 'max_depth': 10.74184703332134}. Best is trial 21 with value: 0.7736489717838354.\u001b[0m\n",
            "\u001b[32m[I 2020-11-23 11:33:49,377]\u001b[0m Trial 63 finished with value: 0.7638769328869759 and parameters: {'classifier': 'RandomForest', 'n_estimators': 970, 'max_depth': 11.543073801997831}. Best is trial 21 with value: 0.7736489717838354.\u001b[0m\n",
            "\u001b[32m[I 2020-11-23 11:33:51,029]\u001b[0m Trial 64 finished with value: 0.7589909134385461 and parameters: {'classifier': 'RandomForest', 'n_estimators': 360, 'max_depth': 13.192432162093755}. Best is trial 21 with value: 0.7736489717838354.\u001b[0m\n",
            "\u001b[32m[I 2020-11-23 11:33:51,973]\u001b[0m Trial 65 finished with value: 0.7573648971783835 and parameters: {'classifier': 'RandomForest', 'n_estimators': 200, 'max_depth': 16.01804270038052}. Best is trial 21 with value: 0.7736489717838354.\u001b[0m\n",
            "\u001b[32m[I 2020-11-23 11:33:53,473]\u001b[0m Trial 66 finished with value: 0.7606328710345927 and parameters: {'classifier': 'RandomForest', 'n_estimators': 330, 'max_depth': 10.161532320653242}. Best is trial 21 with value: 0.7736489717838354.\u001b[0m\n",
            "\u001b[32m[I 2020-11-23 11:33:56,578]\u001b[0m Trial 67 finished with value: 0.7638769328869759 and parameters: {'classifier': 'RandomForest', 'n_estimators': 690, 'max_depth': 52.72533149439231}. Best is trial 21 with value: 0.7736489717838354.\u001b[0m\n",
            "\u001b[32m[I 2020-11-23 11:34:02,229]\u001b[0m Trial 68 finished with value: 0.7606249003666506 and parameters: {'classifier': 'RandomForest', 'n_estimators': 1270, 'max_depth': 27.208830345756766}. Best is trial 21 with value: 0.7736489717838354.\u001b[0m\n",
            "\u001b[32m[I 2020-11-23 11:34:04,852]\u001b[0m Trial 69 finished with value: 0.7573489558424996 and parameters: {'classifier': 'RandomForest', 'n_estimators': 570, 'max_depth': 33.84015801990054}. Best is trial 21 with value: 0.7736489717838354.\u001b[0m\n",
            "\u001b[32m[I 2020-11-23 11:34:06,953]\u001b[0m Trial 70 finished with value: 0.7638769328869759 and parameters: {'classifier': 'RandomForest', 'n_estimators': 460, 'max_depth': 48.92326174978533}. Best is trial 21 with value: 0.7736489717838354.\u001b[0m\n",
            "\u001b[32m[I 2020-11-23 11:34:08,156]\u001b[0m Trial 71 finished with value: 0.7573648971783835 and parameters: {'classifier': 'RandomForest', 'n_estimators': 260, 'max_depth': 24.23220853231208}. Best is trial 21 with value: 0.7736489717838354.\u001b[0m\n",
            "\u001b[32m[I 2020-11-23 11:34:09,127]\u001b[0m Trial 72 finished with value: 0.7557229395823369 and parameters: {'classifier': 'RandomForest', 'n_estimators': 210, 'max_depth': 38.31058051913964}. Best is trial 21 with value: 0.7736489717838354.\u001b[0m\n",
            "\u001b[32m[I 2020-11-23 11:34:10,347]\u001b[0m Trial 73 finished with value: 0.750868802805675 and parameters: {'classifier': 'RandomForest', 'n_estimators': 270, 'max_depth': 15.894847891607185}. Best is trial 21 with value: 0.7736489717838354.\u001b[0m\n",
            "\u001b[32m[I 2020-11-23 11:34:12,025]\u001b[0m Trial 74 finished with value: 0.7573569265104415 and parameters: {'classifier': 'RandomForest', 'n_estimators': 370, 'max_depth': 29.044987363460365}. Best is trial 21 with value: 0.7736489717838354.\u001b[0m\n",
            "\u001b[32m[I 2020-11-23 11:34:13,958]\u001b[0m Trial 75 finished with value: 0.7589909134385461 and parameters: {'classifier': 'RandomForest', 'n_estimators': 420, 'max_depth': 32.862196468275634}. Best is trial 21 with value: 0.7736489717838354.\u001b[0m\n",
            "\u001b[32m[I 2020-11-23 11:34:17,750]\u001b[0m Trial 76 finished with value: 0.7573728678463255 and parameters: {'classifier': 'RandomForest', 'n_estimators': 830, 'max_depth': 18.774009138533774}. Best is trial 21 with value: 0.7736489717838354.\u001b[0m\n",
            "\u001b[32m[I 2020-11-23 11:34:18,695]\u001b[0m Trial 77 finished with value: 0.772030926191615 and parameters: {'classifier': 'RandomForest', 'n_estimators': 200, 'max_depth': 42.33053483484415}. Best is trial 21 with value: 0.7736489717838354.\u001b[0m\n",
            "\u001b[32m[I 2020-11-23 11:34:20,216]\u001b[0m Trial 78 finished with value: 0.7622349752909293 and parameters: {'classifier': 'RandomForest', 'n_estimators': 330, 'max_depth': 41.991379496364424}. Best is trial 21 with value: 0.7736489717838354.\u001b[0m\n",
            "\u001b[32m[I 2020-11-23 11:34:22,486]\u001b[0m Trial 79 finished with value: 0.7622509166268133 and parameters: {'classifier': 'RandomForest', 'n_estimators': 500, 'max_depth': 37.74508102951837}. Best is trial 21 with value: 0.7736489717838354.\u001b[0m\n",
            "\u001b[32m[I 2020-11-23 11:34:23,627]\u001b[0m Trial 80 finished with value: 0.7606328710345927 and parameters: {'classifier': 'RandomForest', 'n_estimators': 250, 'max_depth': 42.514281820583506}. Best is trial 21 with value: 0.7736489717838354.\u001b[0m\n",
            "\u001b[32m[I 2020-11-23 11:34:24,636]\u001b[0m Trial 81 finished with value: 0.7557309102502789 and parameters: {'classifier': 'RandomForest', 'n_estimators': 220, 'max_depth': 45.41674122219684}. Best is trial 21 with value: 0.7736489717838354.\u001b[0m\n",
            "\u001b[32m[I 2020-11-23 11:34:25,563]\u001b[0m Trial 82 finished with value: 0.7704208512673363 and parameters: {'classifier': 'RandomForest', 'n_estimators': 200, 'max_depth': 36.18973342055602}. Best is trial 21 with value: 0.7736489717838354.\u001b[0m\n",
            "\u001b[32m[I 2020-11-23 11:34:26,984]\u001b[0m Trial 83 finished with value: 0.7589909134385461 and parameters: {'classifier': 'RandomForest', 'n_estimators': 310, 'max_depth': 36.03567753503719}. Best is trial 21 with value: 0.7736489717838354.\u001b[0m\n",
            "\u001b[32m[I 2020-11-23 11:34:28,806]\u001b[0m Trial 84 finished with value: 0.7589829427706042 and parameters: {'classifier': 'RandomForest', 'n_estimators': 400, 'max_depth': 33.75832751276641}. Best is trial 21 with value: 0.7736489717838354.\u001b[0m\n",
            "\u001b[32m[I 2020-11-23 11:34:29,725]\u001b[0m Trial 85 finished with value: 0.7590068547744301 and parameters: {'classifier': 'RandomForest', 'n_estimators': 200, 'max_depth': 31.642008002828597}. Best is trial 21 with value: 0.7736489717838354.\u001b[0m\n",
            "\u001b[32m[I 2020-11-23 11:34:31,310]\u001b[0m Trial 86 finished with value: 0.7573728678463255 and parameters: {'classifier': 'RandomForest', 'n_estimators': 350, 'max_depth': 48.030941879351175}. Best is trial 21 with value: 0.7736489717838354.\u001b[0m\n",
            "\u001b[32m[I 2020-11-23 11:34:31,375]\u001b[0m Trial 87 finished with value: 0.66449864498645 and parameters: {'classifier': 'SVC', 'svc_c': 225.8514473339842}. Best is trial 21 with value: 0.7736489717838354.\u001b[0m\n",
            "\u001b[32m[I 2020-11-23 11:34:32,645]\u001b[0m Trial 88 finished with value: 0.7589988841064881 and parameters: {'classifier': 'RandomForest', 'n_estimators': 280, 'max_depth': 38.08215595040999}. Best is trial 21 with value: 0.7736489717838354.\u001b[0m\n",
            "\u001b[32m[I 2020-11-23 11:34:35,527]\u001b[0m Trial 89 finished with value: 0.7524948190658377 and parameters: {'classifier': 'RandomForest', 'n_estimators': 640, 'max_depth': 26.232884151587466}. Best is trial 21 with value: 0.7736489717838354.\u001b[0m\n",
            "\u001b[32m[I 2020-11-23 11:34:37,625]\u001b[0m Trial 90 finished with value: 0.7638849035549179 and parameters: {'classifier': 'RandomForest', 'n_estimators': 460, 'max_depth': 65.51275833429796}. Best is trial 21 with value: 0.7736489717838354.\u001b[0m\n",
            "\u001b[32m[I 2020-11-23 11:34:38,562]\u001b[0m Trial 91 finished with value: 0.7638769328869759 and parameters: {'classifier': 'RandomForest', 'n_estimators': 200, 'max_depth': 20.299181983972275}. Best is trial 21 with value: 0.7736489717838354.\u001b[0m\n",
            "\u001b[32m[I 2020-11-23 11:34:39,727]\u001b[0m Trial 92 finished with value: 0.7687549816674637 and parameters: {'classifier': 'RandomForest', 'n_estimators': 250, 'max_depth': 23.957989295755553}. Best is trial 21 with value: 0.7736489717838354.\u001b[0m\n",
            "\u001b[32m[I 2020-11-23 11:34:40,898]\u001b[0m Trial 93 finished with value: 0.7573648971783835 and parameters: {'classifier': 'RandomForest', 'n_estimators': 250, 'max_depth': 30.99754529908664}. Best is trial 21 with value: 0.7736489717838354.\u001b[0m\n",
            "\u001b[32m[I 2020-11-23 11:34:42,254]\u001b[0m Trial 94 finished with value: 0.7590068547744301 and parameters: {'classifier': 'RandomForest', 'n_estimators': 300, 'max_depth': 10.014950217674548}. Best is trial 21 with value: 0.7736489717838354.\u001b[0m\n",
            "\u001b[32m[I 2020-11-23 11:34:43,926]\u001b[0m Trial 95 finished with value: 0.7573728678463255 and parameters: {'classifier': 'RandomForest', 'n_estimators': 370, 'max_depth': 28.85803689018985}. Best is trial 21 with value: 0.7736489717838354.\u001b[0m\n",
            "\u001b[32m[I 2020-11-23 11:34:45,119]\u001b[0m Trial 96 finished with value: 0.7573569265104415 and parameters: {'classifier': 'RandomForest', 'n_estimators': 260, 'max_depth': 24.055186151580152}. Best is trial 21 with value: 0.7736489717838354.\u001b[0m\n",
            "\u001b[32m[I 2020-11-23 11:34:46,637]\u001b[0m Trial 97 finished with value: 0.7606089590307668 and parameters: {'classifier': 'RandomForest', 'n_estimators': 330, 'max_depth': 12.259239169780157}. Best is trial 21 with value: 0.7736489717838354.\u001b[0m\n",
            "\u001b[32m[I 2020-11-23 11:34:55,577]\u001b[0m Trial 98 finished with value: 0.7638769328869759 and parameters: {'classifier': 'RandomForest', 'n_estimators': 2000, 'max_depth': 40.694318997056754}. Best is trial 21 with value: 0.7736489717838354.\u001b[0m\n",
            "\u001b[32m[I 2020-11-23 11:35:00,091]\u001b[0m Trial 99 finished with value: 0.755738880918221 and parameters: {'classifier': 'RandomForest', 'n_estimators': 1010, 'max_depth': 45.12709491569185}. Best is trial 21 with value: 0.7736489717838354.\u001b[0m\n"
          ],
          "name": "stderr"
        },
        {
          "output_type": "stream",
          "text": [
            "Accuracy: 0.7736489717838354\n",
            "Best hyperparameters: {'classifier': 'RandomForest', 'n_estimators': 720, 'max_depth': 30.59942345089515}\n"
          ],
          "name": "stdout"
        }
      ]
    },
    {
      "cell_type": "code",
      "metadata": {
        "colab": {
          "base_uri": "https://localhost:8080/"
        },
        "id": "W1HvD1eo3znk",
        "outputId": "f5ab43c9-a65b-4087-8260-eca6eacf6bb0"
      },
      "source": [
        "trial"
      ],
      "execution_count": null,
      "outputs": [
        {
          "output_type": "execute_result",
          "data": {
            "text/plain": [
              "FrozenTrial(number=21, value=0.7736489717838354, datetime_start=datetime.datetime(2020, 11, 23, 11, 32, 8, 101425), datetime_complete=datetime.datetime(2020, 11, 23, 11, 32, 11, 358262), params={'classifier': 'RandomForest', 'n_estimators': 720, 'max_depth': 30.59942345089515}, distributions={'classifier': CategoricalDistribution(choices=('RandomForest', 'SVC')), 'n_estimators': IntUniformDistribution(high=2000, low=200, step=10), 'max_depth': LogUniformDistribution(high=100, low=10)}, user_attrs={}, system_attrs={}, intermediate_values={}, trial_id=21, state=TrialState.COMPLETE)"
            ]
          },
          "metadata": {
            "tags": []
          },
          "execution_count": 84
        }
      ]
    },
    {
      "cell_type": "code",
      "metadata": {
        "colab": {
          "base_uri": "https://localhost:8080/"
        },
        "id": "B6C2Fu_q5CnG",
        "outputId": "41bb4cc2-3fa6-43e9-83e6-4fad6f27b8e3"
      },
      "source": [
        "study.best_params"
      ],
      "execution_count": null,
      "outputs": [
        {
          "output_type": "execute_result",
          "data": {
            "text/plain": [
              "{'classifier': 'RandomForest',\n",
              " 'max_depth': 30.59942345089515,\n",
              " 'n_estimators': 720}"
            ]
          },
          "metadata": {
            "tags": []
          },
          "execution_count": 85
        }
      ]
    },
    {
      "cell_type": "code",
      "metadata": {
        "colab": {
          "base_uri": "https://localhost:8080/"
        },
        "id": "ljXKLrvu6AA1",
        "outputId": "304fe7d0-346c-4269-8ab2-a0f27784da8d"
      },
      "source": [
        "rf=RandomForestClassifier(n_estimators=330,max_depth=30)\n",
        "rf.fit(X_train,y_train)"
      ],
      "execution_count": null,
      "outputs": [
        {
          "output_type": "execute_result",
          "data": {
            "text/plain": [
              "RandomForestClassifier(bootstrap=True, ccp_alpha=0.0, class_weight=None,\n",
              "                       criterion='gini', max_depth=30, max_features='auto',\n",
              "                       max_leaf_nodes=None, max_samples=None,\n",
              "                       min_impurity_decrease=0.0, min_impurity_split=None,\n",
              "                       min_samples_leaf=1, min_samples_split=2,\n",
              "                       min_weight_fraction_leaf=0.0, n_estimators=330,\n",
              "                       n_jobs=None, oob_score=False, random_state=None,\n",
              "                       verbose=0, warm_start=False)"
            ]
          },
          "metadata": {
            "tags": []
          },
          "execution_count": 86
        }
      ]
    },
    {
      "cell_type": "code",
      "metadata": {
        "colab": {
          "base_uri": "https://localhost:8080/"
        },
        "id": "q26Tgo9Z6DKM",
        "outputId": "ee675419-35ac-4994-ae6d-64f7d5d24c38"
      },
      "source": [
        "y_pred=rf.predict(X_test)\n",
        "print(confusion_matrix(y_test,y_pred))\n",
        "print(accuracy_score(y_test,y_pred))\n",
        "print(classification_report(y_test,y_pred))"
      ],
      "execution_count": null,
      "outputs": [
        {
          "output_type": "stream",
          "text": [
            "[[79 13]\n",
            " [26 36]]\n",
            "0.7467532467532467\n",
            "              precision    recall  f1-score   support\n",
            "\n",
            "           0       0.75      0.86      0.80        92\n",
            "           1       0.73      0.58      0.65        62\n",
            "\n",
            "    accuracy                           0.75       154\n",
            "   macro avg       0.74      0.72      0.73       154\n",
            "weighted avg       0.75      0.75      0.74       154\n",
            "\n"
          ],
          "name": "stdout"
        }
      ]
    },
    {
      "cell_type": "code",
      "metadata": {
        "id": "mP5cTSwt6F0y"
      },
      "source": [
        ""
      ],
      "execution_count": null,
      "outputs": []
    }
  ]
}